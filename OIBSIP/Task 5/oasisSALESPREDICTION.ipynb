{
 "cells": [
  {
   "cell_type": "markdown",
   "metadata": {},
   "source": [
    "# Oasis Infobyte"
   ]
  },
  {
   "cell_type": "markdown",
   "metadata": {},
   "source": [
    "# Task : 5\n",
    "\n",
    "SALES PREDICTION USING PYTHON"
   ]
  },
  {
   "cell_type": "markdown",
   "metadata": {},
   "source": [
    "Sales prediction means predicting how much of a product people will buy based on factors such as the amount you spend to advertise your product, the segment of people you advertise for, or the platform you are advertising on about your product.Typically, a product and service-based business always need their Data Scientist to predict their future sales with every step they take to manipulate the cost of advertising their product. So let’s start the task of sales prediction with machine learning using Python"
   ]
  },
  {
   "cell_type": "markdown",
   "metadata": {
    "id": "R6xjm571tdTE"
   },
   "source": [
    "**Importing the Required Libraries**"
   ]
  },
  {
   "cell_type": "code",
   "execution_count": 6,
   "metadata": {
    "id": "dRP856EU1wYW"
   },
   "outputs": [],
   "source": [
    "# Numpy Library for Numerical Calculations\n",
    "import numpy as np\n",
    "\n",
    "# Pandas Library for Dataframe\n",
    "import pandas as pd\n",
    "\n",
    "# Matplotlib and Seaborn for Plottings\n",
    "import matplotlib.pyplot as plt\n",
    "\n",
    "import seaborn as sns\n",
    "\n",
    "# Pickle Library for Saving the Model\n",
    "import pickle\n",
    "\n",
    "# Train_Test_Split for splitting the Dataset\n",
    "from sklearn.model_selection import train_test_split\n",
    "\n",
    "# Linear Regression is the Model\n",
    "from sklearn.linear_model import LinearRegression\n",
    "\n",
    "# KFold and Cross_Val_Score for Validation\n",
    "from sklearn.model_selection import cross_val_score\n",
    "\n",
    "# Metrics is for Analysis of Models\n",
    "from sklearn import metrics\n",
    "\n",
    "# Scipy is for Scientific Calculations in Python\n",
    "from scipy import stats\n",
    "\n",
    "# ProfileReport is for geting the report of the Dataframe\n",
    "from pandas_profiling import ProfileReport\n",
    "\n",
    "# Variance Inflation Rate is for getting the change factor in Variance\n",
    "from statsmodels.stats.outliers_influence import variance_inflation_factor\n",
    "\n",
    "# Data Cleaning Suggestions and Data Suggestions are for cleaning the Dataframe in an unique way\n",
    "from autoviz.classify_method import data_cleaning_suggestions ,data_suggestions\n",
    "\n",
    "# Regression is for importing all the regression models\n",
    "from pycaret.regression import *"
   ]
  },
  {
   "cell_type": "markdown",
   "metadata": {
    "id": "xu7WlNl7vbXx"
   },
   "source": [
    "**Reading informations in the Dataset**"
   ]
  },
  {
   "cell_type": "code",
   "execution_count": 7,
   "metadata": {
    "id": "O0U69_xArGAP"
   },
   "outputs": [],
   "source": [
    "sales = pd.read_csv(\"Advertising.csv\")"
   ]
  },
  {
   "cell_type": "markdown",
   "metadata": {
    "id": "ztslY5yawK3r"
   },
   "source": [
    "**Checking for null values in Data**"
   ]
  },
  {
   "cell_type": "code",
   "execution_count": 8,
   "metadata": {
    "colab": {
     "base_uri": "https://localhost:8080/"
    },
    "id": "tpyZFptjsCXA",
    "outputId": "f88202cd-88e4-42a9-ba88-7e8990abb91f"
   },
   "outputs": [
    {
     "data": {
      "text/plain": [
       "Unnamed: 0    0\n",
       "TV            0\n",
       "Radio         0\n",
       "Newspaper     0\n",
       "Sales         0\n",
       "dtype: int64"
      ]
     },
     "execution_count": 8,
     "metadata": {},
     "output_type": "execute_result"
    }
   ],
   "source": [
    "sales.isnull().sum()"
   ]
  },
  {
   "cell_type": "markdown",
   "metadata": {
    "id": "0N934_m8w2aH"
   },
   "source": [
    "**Checking the First Five Values in the Data**"
   ]
  },
  {
   "cell_type": "code",
   "execution_count": 9,
   "metadata": {
    "colab": {
     "base_uri": "https://localhost:8080/",
     "height": 206
    },
    "id": "95OkrWNSsM9n",
    "outputId": "6fa1690d-1481-4cf7-f507-321fca7666fa"
   },
   "outputs": [
    {
     "data": {
      "text/html": [
       "<div>\n",
       "<style scoped>\n",
       "    .dataframe tbody tr th:only-of-type {\n",
       "        vertical-align: middle;\n",
       "    }\n",
       "\n",
       "    .dataframe tbody tr th {\n",
       "        vertical-align: top;\n",
       "    }\n",
       "\n",
       "    .dataframe thead th {\n",
       "        text-align: right;\n",
       "    }\n",
       "</style>\n",
       "<table border=\"1\" class=\"dataframe\">\n",
       "  <thead>\n",
       "    <tr style=\"text-align: right;\">\n",
       "      <th></th>\n",
       "      <th>Unnamed: 0</th>\n",
       "      <th>TV</th>\n",
       "      <th>Radio</th>\n",
       "      <th>Newspaper</th>\n",
       "      <th>Sales</th>\n",
       "    </tr>\n",
       "  </thead>\n",
       "  <tbody>\n",
       "    <tr>\n",
       "      <th>0</th>\n",
       "      <td>1</td>\n",
       "      <td>230.1</td>\n",
       "      <td>37.8</td>\n",
       "      <td>69.2</td>\n",
       "      <td>22.1</td>\n",
       "    </tr>\n",
       "    <tr>\n",
       "      <th>1</th>\n",
       "      <td>2</td>\n",
       "      <td>44.5</td>\n",
       "      <td>39.3</td>\n",
       "      <td>45.1</td>\n",
       "      <td>10.4</td>\n",
       "    </tr>\n",
       "    <tr>\n",
       "      <th>2</th>\n",
       "      <td>3</td>\n",
       "      <td>17.2</td>\n",
       "      <td>45.9</td>\n",
       "      <td>69.3</td>\n",
       "      <td>9.3</td>\n",
       "    </tr>\n",
       "    <tr>\n",
       "      <th>3</th>\n",
       "      <td>4</td>\n",
       "      <td>151.5</td>\n",
       "      <td>41.3</td>\n",
       "      <td>58.5</td>\n",
       "      <td>18.5</td>\n",
       "    </tr>\n",
       "    <tr>\n",
       "      <th>4</th>\n",
       "      <td>5</td>\n",
       "      <td>180.8</td>\n",
       "      <td>10.8</td>\n",
       "      <td>58.4</td>\n",
       "      <td>12.9</td>\n",
       "    </tr>\n",
       "  </tbody>\n",
       "</table>\n",
       "</div>"
      ],
      "text/plain": [
       "   Unnamed: 0     TV  Radio  Newspaper  Sales\n",
       "0           1  230.1   37.8       69.2   22.1\n",
       "1           2   44.5   39.3       45.1   10.4\n",
       "2           3   17.2   45.9       69.3    9.3\n",
       "3           4  151.5   41.3       58.5   18.5\n",
       "4           5  180.8   10.8       58.4   12.9"
      ]
     },
     "execution_count": 9,
     "metadata": {},
     "output_type": "execute_result"
    }
   ],
   "source": [
    "sales.head()"
   ]
  },
  {
   "cell_type": "markdown",
   "metadata": {
    "id": "lR0j35k3sVZH"
   },
   "source": [
    "**Checking the Last Five Values in the Data**"
   ]
  },
  {
   "cell_type": "code",
   "execution_count": 10,
   "metadata": {
    "colab": {
     "base_uri": "https://localhost:8080/",
     "height": 206
    },
    "id": "c8g2bi2dsYny",
    "outputId": "204621ce-d760-4110-c15a-4deb8b5bb7ec"
   },
   "outputs": [
    {
     "data": {
      "text/html": [
       "<div>\n",
       "<style scoped>\n",
       "    .dataframe tbody tr th:only-of-type {\n",
       "        vertical-align: middle;\n",
       "    }\n",
       "\n",
       "    .dataframe tbody tr th {\n",
       "        vertical-align: top;\n",
       "    }\n",
       "\n",
       "    .dataframe thead th {\n",
       "        text-align: right;\n",
       "    }\n",
       "</style>\n",
       "<table border=\"1\" class=\"dataframe\">\n",
       "  <thead>\n",
       "    <tr style=\"text-align: right;\">\n",
       "      <th></th>\n",
       "      <th>Unnamed: 0</th>\n",
       "      <th>TV</th>\n",
       "      <th>Radio</th>\n",
       "      <th>Newspaper</th>\n",
       "      <th>Sales</th>\n",
       "    </tr>\n",
       "  </thead>\n",
       "  <tbody>\n",
       "    <tr>\n",
       "      <th>195</th>\n",
       "      <td>196</td>\n",
       "      <td>38.2</td>\n",
       "      <td>3.7</td>\n",
       "      <td>13.8</td>\n",
       "      <td>7.6</td>\n",
       "    </tr>\n",
       "    <tr>\n",
       "      <th>196</th>\n",
       "      <td>197</td>\n",
       "      <td>94.2</td>\n",
       "      <td>4.9</td>\n",
       "      <td>8.1</td>\n",
       "      <td>9.7</td>\n",
       "    </tr>\n",
       "    <tr>\n",
       "      <th>197</th>\n",
       "      <td>198</td>\n",
       "      <td>177.0</td>\n",
       "      <td>9.3</td>\n",
       "      <td>6.4</td>\n",
       "      <td>12.8</td>\n",
       "    </tr>\n",
       "    <tr>\n",
       "      <th>198</th>\n",
       "      <td>199</td>\n",
       "      <td>283.6</td>\n",
       "      <td>42.0</td>\n",
       "      <td>66.2</td>\n",
       "      <td>25.5</td>\n",
       "    </tr>\n",
       "    <tr>\n",
       "      <th>199</th>\n",
       "      <td>200</td>\n",
       "      <td>232.1</td>\n",
       "      <td>8.6</td>\n",
       "      <td>8.7</td>\n",
       "      <td>13.4</td>\n",
       "    </tr>\n",
       "  </tbody>\n",
       "</table>\n",
       "</div>"
      ],
      "text/plain": [
       "     Unnamed: 0     TV  Radio  Newspaper  Sales\n",
       "195         196   38.2    3.7       13.8    7.6\n",
       "196         197   94.2    4.9        8.1    9.7\n",
       "197         198  177.0    9.3        6.4   12.8\n",
       "198         199  283.6   42.0       66.2   25.5\n",
       "199         200  232.1    8.6        8.7   13.4"
      ]
     },
     "execution_count": 10,
     "metadata": {},
     "output_type": "execute_result"
    }
   ],
   "source": [
    "sales.tail()"
   ]
  },
  {
   "cell_type": "markdown",
   "metadata": {
    "id": "IjcRFzNmxsOO"
   },
   "source": [
    "**Dimensions of the Dataset**"
   ]
  },
  {
   "cell_type": "code",
   "execution_count": 11,
   "metadata": {
    "colab": {
     "base_uri": "https://localhost:8080/"
    },
    "id": "eYSz2Sr_sm9Z",
    "outputId": "d9a398c0-8919-4483-ff08-ba41586f69e6"
   },
   "outputs": [
    {
     "data": {
      "text/plain": [
       "(200, 5)"
      ]
     },
     "execution_count": 11,
     "metadata": {},
     "output_type": "execute_result"
    }
   ],
   "source": [
    "sales.shape"
   ]
  },
  {
   "cell_type": "markdown",
   "metadata": {
    "id": "mNz5BHmRx5Zi"
   },
   "source": [
    "**Describing the Dataset**"
   ]
  },
  {
   "cell_type": "code",
   "execution_count": 12,
   "metadata": {
    "colab": {
     "base_uri": "https://localhost:8080/",
     "height": 300
    },
    "id": "pzjnCmCzsq5k",
    "outputId": "bc70365d-b275-4664-e545-6bd2a4afb202"
   },
   "outputs": [
    {
     "data": {
      "text/html": [
       "<div>\n",
       "<style scoped>\n",
       "    .dataframe tbody tr th:only-of-type {\n",
       "        vertical-align: middle;\n",
       "    }\n",
       "\n",
       "    .dataframe tbody tr th {\n",
       "        vertical-align: top;\n",
       "    }\n",
       "\n",
       "    .dataframe thead th {\n",
       "        text-align: right;\n",
       "    }\n",
       "</style>\n",
       "<table border=\"1\" class=\"dataframe\">\n",
       "  <thead>\n",
       "    <tr style=\"text-align: right;\">\n",
       "      <th></th>\n",
       "      <th>Unnamed: 0</th>\n",
       "      <th>TV</th>\n",
       "      <th>Radio</th>\n",
       "      <th>Newspaper</th>\n",
       "      <th>Sales</th>\n",
       "    </tr>\n",
       "  </thead>\n",
       "  <tbody>\n",
       "    <tr>\n",
       "      <th>count</th>\n",
       "      <td>200.000000</td>\n",
       "      <td>200.000000</td>\n",
       "      <td>200.000000</td>\n",
       "      <td>200.000000</td>\n",
       "      <td>200.000000</td>\n",
       "    </tr>\n",
       "    <tr>\n",
       "      <th>mean</th>\n",
       "      <td>100.500000</td>\n",
       "      <td>147.042500</td>\n",
       "      <td>23.264000</td>\n",
       "      <td>30.554000</td>\n",
       "      <td>14.022500</td>\n",
       "    </tr>\n",
       "    <tr>\n",
       "      <th>std</th>\n",
       "      <td>57.879185</td>\n",
       "      <td>85.854236</td>\n",
       "      <td>14.846809</td>\n",
       "      <td>21.778621</td>\n",
       "      <td>5.217457</td>\n",
       "    </tr>\n",
       "    <tr>\n",
       "      <th>min</th>\n",
       "      <td>1.000000</td>\n",
       "      <td>0.700000</td>\n",
       "      <td>0.000000</td>\n",
       "      <td>0.300000</td>\n",
       "      <td>1.600000</td>\n",
       "    </tr>\n",
       "    <tr>\n",
       "      <th>25%</th>\n",
       "      <td>50.750000</td>\n",
       "      <td>74.375000</td>\n",
       "      <td>9.975000</td>\n",
       "      <td>12.750000</td>\n",
       "      <td>10.375000</td>\n",
       "    </tr>\n",
       "    <tr>\n",
       "      <th>50%</th>\n",
       "      <td>100.500000</td>\n",
       "      <td>149.750000</td>\n",
       "      <td>22.900000</td>\n",
       "      <td>25.750000</td>\n",
       "      <td>12.900000</td>\n",
       "    </tr>\n",
       "    <tr>\n",
       "      <th>75%</th>\n",
       "      <td>150.250000</td>\n",
       "      <td>218.825000</td>\n",
       "      <td>36.525000</td>\n",
       "      <td>45.100000</td>\n",
       "      <td>17.400000</td>\n",
       "    </tr>\n",
       "    <tr>\n",
       "      <th>max</th>\n",
       "      <td>200.000000</td>\n",
       "      <td>296.400000</td>\n",
       "      <td>49.600000</td>\n",
       "      <td>114.000000</td>\n",
       "      <td>27.000000</td>\n",
       "    </tr>\n",
       "  </tbody>\n",
       "</table>\n",
       "</div>"
      ],
      "text/plain": [
       "       Unnamed: 0          TV       Radio   Newspaper       Sales\n",
       "count  200.000000  200.000000  200.000000  200.000000  200.000000\n",
       "mean   100.500000  147.042500   23.264000   30.554000   14.022500\n",
       "std     57.879185   85.854236   14.846809   21.778621    5.217457\n",
       "min      1.000000    0.700000    0.000000    0.300000    1.600000\n",
       "25%     50.750000   74.375000    9.975000   12.750000   10.375000\n",
       "50%    100.500000  149.750000   22.900000   25.750000   12.900000\n",
       "75%    150.250000  218.825000   36.525000   45.100000   17.400000\n",
       "max    200.000000  296.400000   49.600000  114.000000   27.000000"
      ]
     },
     "execution_count": 12,
     "metadata": {},
     "output_type": "execute_result"
    }
   ],
   "source": [
    "sales.describe()"
   ]
  },
  {
   "cell_type": "markdown",
   "metadata": {
    "id": "v_5lvTOAtN9A"
   },
   "source": [
    "### Visualization of the Data"
   ]
  },
  {
   "cell_type": "markdown",
   "metadata": {
    "id": "Tm-gD7W3timC"
   },
   "source": [
    "**TV Sales Plotting**"
   ]
  },
  {
   "cell_type": "code",
   "execution_count": 13,
   "metadata": {
    "colab": {
     "base_uri": "https://localhost:8080/",
     "height": 404
    },
    "id": "A1U0DPpytR4Z",
    "outputId": "8588a158-115c-4b97-ddbf-57c37e4d4c34"
   },
   "outputs": [
    {
     "data": {
      "image/png": "[encoded data removed]",
      "text/plain": [
       "<Figure size 400x400 with 1 Axes>"
      ]
     },
     "metadata": {},
     "output_type": "display_data"
    }
   ],
   "source": [
    "plt.figure(figsize=(4,4))\n",
    "sns.scatterplot(data = sales, x = sales['TV'], y = sales['Sales'])\n",
    "plt.show()"
   ]
  },
  {
   "cell_type": "markdown",
   "metadata": {
    "id": "Q0TAzN6muTLI"
   },
   "source": [
    "**Radio Sales Plotting**"
   ]
  },
  {
   "cell_type": "code",
   "execution_count": 14,
   "metadata": {
    "colab": {
     "base_uri": "https://localhost:8080/",
     "height": 404
    },
    "id": "7kLUON2yt6SZ",
    "outputId": "164553ba-edaa-496d-b113-441d5e37a49b",
    "scrolled": false
   },
   "outputs": [
    {
     "data": {
      "image/png": "[encoded data removed]",
      "text/plain": [
       "<Figure size 400x400 with 1 Axes>"
      ]
     },
     "metadata": {},
     "output_type": "display_data"
    }
   ],
   "source": [
    "plt.figure(figsize=(4,4))\n",
    "sns.scatterplot(data = sales, x = sales['Radio'], y = sales['Sales'])\n",
    "plt.show()"
   ]
  },
  {
   "cell_type": "markdown",
   "metadata": {
    "id": "c1iJn1FnuYqs"
   },
   "source": [
    "**Radio Sales Plotting**"
   ]
  },
  {
   "cell_type": "code",
   "execution_count": 15,
   "metadata": {
    "colab": {
     "base_uri": "https://localhost:8080/",
     "height": 404
    },
    "id": "e7J6rC_HuIZI",
    "outputId": "6d2b8563-6461-41bb-ab90-bddc7f8364d2"
   },
   "outputs": [
    {
     "data": {
      "image/png": "[encoded data removed]",
      "text/plain": [
       "<Figure size 400x400 with 1 Axes>"
      ]
     },
     "metadata": {},
     "output_type": "display_data"
    }
   ],
   "source": [
    "plt.figure(figsize=(4,4))\n",
    "sns.scatterplot(data = sales, x = sales['Newspaper'], y = sales['Sales'])\n",
    "plt.show()"
   ]
  },
  {
   "cell_type": "markdown",
   "metadata": {
    "id": "5F1KPw2buoG7"
   },
   "source": [
    "### Data Modeling"
   ]
  },
  {
   "cell_type": "markdown",
   "metadata": {
    "id": "XVP7YMF26IqZ"
   },
   "source": [
    "**Splitting the Dataset into Training and Testing**"
   ]
  },
  {
   "cell_type": "code",
   "execution_count": 16,
   "metadata": {
    "colab": {
     "base_uri": "https://localhost:8080/"
    },
    "id": "O4Uei0kwunxH",
    "outputId": "33f7f91f-44da-42af-e957-30aafcfa7c97"
   },
   "outputs": [
    {
     "name": "stdout",
     "output_type": "stream",
     "text": [
      "X Dimention:  (200, 3)\n",
      "Y Dimention:  (200,)\n"
     ]
    }
   ],
   "source": [
    "X = sales.drop(['Unnamed: 0','Sales'], axis=1)\n",
    "Y = sales['Sales']\n",
    "print(\"X Dimention: \", X.shape)\n",
    "print(\"Y Dimention: \", Y.shape)\n",
    "X_train, X_test, Y_train, Y_test = train_test_split(X, Y, test_size=0.25, random_state=25)"
   ]
  },
  {
   "cell_type": "markdown",
   "metadata": {
    "id": "O7R0AdUf6fhL"
   },
   "source": [
    "**Checking the Dimensions of Training and Testing Data**"
   ]
  },
  {
   "cell_type": "code",
   "execution_count": 17,
   "metadata": {
    "colab": {
     "base_uri": "https://localhost:8080/"
    },
    "id": "qfAcygEavXe5",
    "outputId": "64a592c7-03a6-4b3a-c6b6-cf4a5ee9efd0"
   },
   "outputs": [
    {
     "name": "stdout",
     "output_type": "stream",
     "text": [
      "X_Train Shape: (150, 3)\n",
      "X_Test Shape: (50, 3)\n",
      "Y_Train Shape: (150, 3)\n",
      "Y_Test Shape: (50,)\n"
     ]
    }
   ],
   "source": [
    "print(\"X_Train Shape:\", X_train.shape)\n",
    "print(\"X_Test Shape:\", X_test.shape)\n",
    "print(\"Y_Train Shape:\", X_train.shape)\n",
    "print(\"Y_Test Shape:\", Y_test.shape)"
   ]
  },
  {
   "cell_type": "markdown",
   "metadata": {
    "id": "_ObKvUqA7CW2"
   },
   "source": [
    "### Model Building"
   ]
  },
  {
   "cell_type": "markdown",
   "metadata": {
    "id": "QCdmC6oqvntP"
   },
   "source": [
    "**Creating the Model**"
   ]
  },
  {
   "cell_type": "code",
   "execution_count": 18,
   "metadata": {
    "colab": {
     "base_uri": "https://localhost:8080/",
     "height": 75
    },
    "id": "s4CguIw7vsyF",
    "outputId": "4f7d7b21-2eaf-449c-fed1-02b81300146f"
   },
   "outputs": [
    {
     "data": {
      "text/plain": [
       "LinearRegression()"
      ]
     },
     "execution_count": 18,
     "metadata": {},
     "output_type": "execute_result"
    }
   ],
   "source": [
    "model = LinearRegression()\n",
    "model.fit(X_train,Y_train)"
   ]
  },
  {
   "cell_type": "code",
   "execution_count": 19,
   "metadata": {
    "id": "OaYDqSDyv-lt"
   },
   "outputs": [],
   "source": [
    "pred = model.predict(X_test)"
   ]
  },
  {
   "cell_type": "markdown",
   "metadata": {
    "id": "LCBTId27wJfo"
   },
   "source": [
    "### Model Testing"
   ]
  },
  {
   "cell_type": "markdown",
   "metadata": {
    "id": "VCvNt7JawSUu"
   },
   "source": [
    "**Testing the Model**"
   ]
  },
  {
   "cell_type": "code",
   "execution_count": 20,
   "metadata": {
    "colab": {
     "base_uri": "https://localhost:8080/"
    },
    "id": "SJExqIO8wM18",
    "outputId": "a383da0f-c53d-4eee-94b8-35c4aadb3b34"
   },
   "outputs": [
    {
     "name": "stdout",
     "output_type": "stream",
     "text": [
      "MAE:  1.3589661756175426\n",
      "RMSE:  1.7670302705342986\n",
      "R-Squared:  0.8673317236481491\n"
     ]
    }
   ],
   "source": [
    "print('MAE: ', metrics.mean_absolute_error(pred,Y_test))\n",
    "print('RMSE: ', np.sqrt(metrics.mean_squared_error(pred,Y_test)))\n",
    "print('R-Squared: ', metrics.r2_score(pred,Y_test))"
   ]
  },
  {
   "cell_type": "markdown",
   "metadata": {
    "id": "eqL9vapc4JfP"
   },
   "source": [
    "Accuracy of the Linear Regression Model is 86%"
   ]
  },
  {
   "cell_type": "markdown",
   "metadata": {
    "id": "sgwedmYd00xB"
   },
   "source": [
    "### Pycaret"
   ]
  },
  {
   "cell_type": "markdown",
   "metadata": {
    "id": "hYjTM2kg03g6"
   },
   "source": [
    "**Comparing Regression Models**"
   ]
  },
  {
   "cell_type": "code",
   "execution_count": 22,
   "metadata": {
    "colab": {
     "base_uri": "https://localhost:8080/",
     "height": 645
    },
    "id": "jeVL_CfV03Al",
    "outputId": "61a36d72-712a-4e40-9486-66b71d55a63a"
   },
   "outputs": [
    {
     "data": {
      "text/html": [
       "<style type=\"text/css\">\n",
       "#T_34bd6_row8_col1 {\n",
       "  background-color: lightgreen;\n",
       "}\n",
       "</style>\n",
       "<table id=\"T_34bd6\">\n",
       "  <thead>\n",
       "    <tr>\n",
       "      <th class=\"blank level0\" >&nbsp;</th>\n",
       "      <th id=\"T_34bd6_level0_col0\" class=\"col_heading level0 col0\" >Description</th>\n",
       "      <th id=\"T_34bd6_level0_col1\" class=\"col_heading level0 col1\" >Value</th>\n",
       "    </tr>\n",
       "  </thead>\n",
       "  <tbody>\n",
       "    <tr>\n",
       "      <th id=\"T_34bd6_level0_row0\" class=\"row_heading level0 row0\" >0</th>\n",
       "      <td id=\"T_34bd6_row0_col0\" class=\"data row0 col0\" >Session id</td>\n",
       "      <td id=\"T_34bd6_row0_col1\" class=\"data row0 col1\" >123</td>\n",
       "    </tr>\n",
       "    <tr>\n",
       "      <th id=\"T_34bd6_level0_row1\" class=\"row_heading level0 row1\" >1</th>\n",
       "      <td id=\"T_34bd6_row1_col0\" class=\"data row1 col0\" >Target</td>\n",
       "      <td id=\"T_34bd6_row1_col1\" class=\"data row1 col1\" >Sales</td>\n",
       "    </tr>\n",
       "    <tr>\n",
       "      <th id=\"T_34bd6_level0_row2\" class=\"row_heading level0 row2\" >2</th>\n",
       "      <td id=\"T_34bd6_row2_col0\" class=\"data row2 col0\" >Target type</td>\n",
       "      <td id=\"T_34bd6_row2_col1\" class=\"data row2 col1\" >Regression</td>\n",
       "    </tr>\n",
       "    <tr>\n",
       "      <th id=\"T_34bd6_level0_row3\" class=\"row_heading level0 row3\" >3</th>\n",
       "      <td id=\"T_34bd6_row3_col0\" class=\"data row3 col0\" >Original data shape</td>\n",
       "      <td id=\"T_34bd6_row3_col1\" class=\"data row3 col1\" >(200, 5)</td>\n",
       "    </tr>\n",
       "    <tr>\n",
       "      <th id=\"T_34bd6_level0_row4\" class=\"row_heading level0 row4\" >4</th>\n",
       "      <td id=\"T_34bd6_row4_col0\" class=\"data row4 col0\" >Transformed data shape</td>\n",
       "      <td id=\"T_34bd6_row4_col1\" class=\"data row4 col1\" >(200, 5)</td>\n",
       "    </tr>\n",
       "    <tr>\n",
       "      <th id=\"T_34bd6_level0_row5\" class=\"row_heading level0 row5\" >5</th>\n",
       "      <td id=\"T_34bd6_row5_col0\" class=\"data row5 col0\" >Transformed train set shape</td>\n",
       "      <td id=\"T_34bd6_row5_col1\" class=\"data row5 col1\" >(140, 5)</td>\n",
       "    </tr>\n",
       "    <tr>\n",
       "      <th id=\"T_34bd6_level0_row6\" class=\"row_heading level0 row6\" >6</th>\n",
       "      <td id=\"T_34bd6_row6_col0\" class=\"data row6 col0\" >Transformed test set shape</td>\n",
       "      <td id=\"T_34bd6_row6_col1\" class=\"data row6 col1\" >(60, 5)</td>\n",
       "    </tr>\n",
       "    <tr>\n",
       "      <th id=\"T_34bd6_level0_row7\" class=\"row_heading level0 row7\" >7</th>\n",
       "      <td id=\"T_34bd6_row7_col0\" class=\"data row7 col0\" >Numeric features</td>\n",
       "      <td id=\"T_34bd6_row7_col1\" class=\"data row7 col1\" >4</td>\n",
       "    </tr>\n",
       "    <tr>\n",
       "      <th id=\"T_34bd6_level0_row8\" class=\"row_heading level0 row8\" >8</th>\n",
       "      <td id=\"T_34bd6_row8_col0\" class=\"data row8 col0\" >Preprocess</td>\n",
       "      <td id=\"T_34bd6_row8_col1\" class=\"data row8 col1\" >True</td>\n",
       "    </tr>\n",
       "    <tr>\n",
       "      <th id=\"T_34bd6_level0_row9\" class=\"row_heading level0 row9\" >9</th>\n",
       "      <td id=\"T_34bd6_row9_col0\" class=\"data row9 col0\" >Imputation type</td>\n",
       "      <td id=\"T_34bd6_row9_col1\" class=\"data row9 col1\" >simple</td>\n",
       "    </tr>\n",
       "    <tr>\n",
       "      <th id=\"T_34bd6_level0_row10\" class=\"row_heading level0 row10\" >10</th>\n",
       "      <td id=\"T_34bd6_row10_col0\" class=\"data row10 col0\" >Numeric imputation</td>\n",
       "      <td id=\"T_34bd6_row10_col1\" class=\"data row10 col1\" >mean</td>\n",
       "    </tr>\n",
       "    <tr>\n",
       "      <th id=\"T_34bd6_level0_row11\" class=\"row_heading level0 row11\" >11</th>\n",
       "      <td id=\"T_34bd6_row11_col0\" class=\"data row11 col0\" >Categorical imputation</td>\n",
       "      <td id=\"T_34bd6_row11_col1\" class=\"data row11 col1\" >mode</td>\n",
       "    </tr>\n",
       "    <tr>\n",
       "      <th id=\"T_34bd6_level0_row12\" class=\"row_heading level0 row12\" >12</th>\n",
       "      <td id=\"T_34bd6_row12_col0\" class=\"data row12 col0\" >Fold Generator</td>\n",
       "      <td id=\"T_34bd6_row12_col1\" class=\"data row12 col1\" >KFold</td>\n",
       "    </tr>\n",
       "    <tr>\n",
       "      <th id=\"T_34bd6_level0_row13\" class=\"row_heading level0 row13\" >13</th>\n",
       "      <td id=\"T_34bd6_row13_col0\" class=\"data row13 col0\" >Fold Number</td>\n",
       "      <td id=\"T_34bd6_row13_col1\" class=\"data row13 col1\" >10</td>\n",
       "    </tr>\n",
       "    <tr>\n",
       "      <th id=\"T_34bd6_level0_row14\" class=\"row_heading level0 row14\" >14</th>\n",
       "      <td id=\"T_34bd6_row14_col0\" class=\"data row14 col0\" >CPU Jobs</td>\n",
       "      <td id=\"T_34bd6_row14_col1\" class=\"data row14 col1\" >-1</td>\n",
       "    </tr>\n",
       "    <tr>\n",
       "      <th id=\"T_34bd6_level0_row15\" class=\"row_heading level0 row15\" >15</th>\n",
       "      <td id=\"T_34bd6_row15_col0\" class=\"data row15 col0\" >Use GPU</td>\n",
       "      <td id=\"T_34bd6_row15_col1\" class=\"data row15 col1\" >False</td>\n",
       "    </tr>\n",
       "    <tr>\n",
       "      <th id=\"T_34bd6_level0_row16\" class=\"row_heading level0 row16\" >16</th>\n",
       "      <td id=\"T_34bd6_row16_col0\" class=\"data row16 col0\" >Log Experiment</td>\n",
       "      <td id=\"T_34bd6_row16_col1\" class=\"data row16 col1\" >False</td>\n",
       "    </tr>\n",
       "    <tr>\n",
       "      <th id=\"T_34bd6_level0_row17\" class=\"row_heading level0 row17\" >17</th>\n",
       "      <td id=\"T_34bd6_row17_col0\" class=\"data row17 col0\" >Experiment Name</td>\n",
       "      <td id=\"T_34bd6_row17_col1\" class=\"data row17 col1\" >reg-default-name</td>\n",
       "    </tr>\n",
       "    <tr>\n",
       "      <th id=\"T_34bd6_level0_row18\" class=\"row_heading level0 row18\" >18</th>\n",
       "      <td id=\"T_34bd6_row18_col0\" class=\"data row18 col0\" >USI</td>\n",
       "      <td id=\"T_34bd6_row18_col1\" class=\"data row18 col1\" >1833</td>\n",
       "    </tr>\n",
       "  </tbody>\n",
       "</table>\n"
      ],
      "text/plain": [
       "<pandas.io.formats.style.Styler at 0x238f37ab9d0>"
      ]
     },
     "metadata": {},
     "output_type": "display_data"
    }
   ],
   "source": [
    "s = setup(data = sales, target = 'Sales', session_id=123)"
   ]
  },
  {
   "cell_type": "code",
   "execution_count": 23,
   "metadata": {
    "colab": {
     "base_uri": "https://localhost:8080/",
     "height": 703,
     "referenced_widgets": [
      "087070ec728b49a1ac622bdb856e605c",
      "2ec1c0fbfc1845e9ad9cc09385060937",
      "f736b0bf5ad64f78ac8314998beffb2b",
      "b594b619a7074d5c9cee52d9163077ec",
      "a1c3ed67a543466c8d2cf75f54a9f4b6",
      "2190ae36dacb408196dd1095b2468a89",
      "a38baf9f6b0744019a5b98e58da4b8b1",
      "46b6d8ed04c9474c8d8c22078924b342",
      "901cbe02a68447e6b9eb5e4db71556ca",
      "56e4c8289ff248a18ef55e9ff657547d",
      "425c3977423549ecb1242db8c2cffbb1"
     ]
    },
    "id": "5YGq8R2O1N1f",
    "outputId": "9fbc4cb7-4474-4381-c472-29a96b6c3b69"
   },
   "outputs": [
    {
     "data": {
      "text/html": [],
      "text/plain": [
       "<IPython.core.display.HTML object>"
      ]
     },
     "metadata": {},
     "output_type": "display_data"
    },
    {
     "data": {
      "text/html": [
       "<style type=\"text/css\">\n",
       "#T_4c0f9 th {\n",
       "  text-align: left;\n",
       "}\n",
       "#T_4c0f9_row0_col0, #T_4c0f9_row1_col0, #T_4c0f9_row1_col1, #T_4c0f9_row1_col2, #T_4c0f9_row1_col3, #T_4c0f9_row1_col4, #T_4c0f9_row1_col5, #T_4c0f9_row1_col6, #T_4c0f9_row2_col0, #T_4c0f9_row2_col1, #T_4c0f9_row2_col2, #T_4c0f9_row2_col3, #T_4c0f9_row2_col4, #T_4c0f9_row2_col5, #T_4c0f9_row2_col6, #T_4c0f9_row3_col0, #T_4c0f9_row3_col1, #T_4c0f9_row3_col2, #T_4c0f9_row3_col3, #T_4c0f9_row3_col4, #T_4c0f9_row3_col5, #T_4c0f9_row3_col6, #T_4c0f9_row4_col0, #T_4c0f9_row4_col1, #T_4c0f9_row4_col2, #T_4c0f9_row4_col3, #T_4c0f9_row4_col4, #T_4c0f9_row4_col5, #T_4c0f9_row4_col6, #T_4c0f9_row5_col0, #T_4c0f9_row5_col1, #T_4c0f9_row5_col2, #T_4c0f9_row5_col3, #T_4c0f9_row5_col4, #T_4c0f9_row5_col5, #T_4c0f9_row5_col6, #T_4c0f9_row6_col0, #T_4c0f9_row6_col1, #T_4c0f9_row6_col2, #T_4c0f9_row6_col3, #T_4c0f9_row6_col4, #T_4c0f9_row6_col5, #T_4c0f9_row6_col6, #T_4c0f9_row7_col0, #T_4c0f9_row7_col1, #T_4c0f9_row7_col2, #T_4c0f9_row7_col3, #T_4c0f9_row7_col4, #T_4c0f9_row7_col5, #T_4c0f9_row7_col6, #T_4c0f9_row8_col0, #T_4c0f9_row8_col1, #T_4c0f9_row8_col2, #T_4c0f9_row8_col3, #T_4c0f9_row8_col4, #T_4c0f9_row8_col5, #T_4c0f9_row8_col6, #T_4c0f9_row9_col0, #T_4c0f9_row9_col1, #T_4c0f9_row9_col2, #T_4c0f9_row9_col3, #T_4c0f9_row9_col4, #T_4c0f9_row9_col5, #T_4c0f9_row9_col6, #T_4c0f9_row10_col0, #T_4c0f9_row10_col1, #T_4c0f9_row10_col2, #T_4c0f9_row10_col3, #T_4c0f9_row10_col4, #T_4c0f9_row10_col5, #T_4c0f9_row10_col6, #T_4c0f9_row11_col0, #T_4c0f9_row11_col1, #T_4c0f9_row11_col2, #T_4c0f9_row11_col3, #T_4c0f9_row11_col4, #T_4c0f9_row11_col5, #T_4c0f9_row11_col6, #T_4c0f9_row12_col0, #T_4c0f9_row12_col1, #T_4c0f9_row12_col2, #T_4c0f9_row12_col3, #T_4c0f9_row12_col4, #T_4c0f9_row12_col5, #T_4c0f9_row12_col6, #T_4c0f9_row13_col0, #T_4c0f9_row13_col1, #T_4c0f9_row13_col2, #T_4c0f9_row13_col3, #T_4c0f9_row13_col4, #T_4c0f9_row13_col5, #T_4c0f9_row13_col6, #T_4c0f9_row14_col0, #T_4c0f9_row14_col1, #T_4c0f9_row14_col2, #T_4c0f9_row14_col3, #T_4c0f9_row14_col4, #T_4c0f9_row14_col5, #T_4c0f9_row14_col6, #T_4c0f9_row15_col0, #T_4c0f9_row15_col1, #T_4c0f9_row15_col2, #T_4c0f9_row15_col3, #T_4c0f9_row15_col4, #T_4c0f9_row15_col5, #T_4c0f9_row15_col6, #T_4c0f9_row16_col0, #T_4c0f9_row16_col1, #T_4c0f9_row16_col2, #T_4c0f9_row16_col3, #T_4c0f9_row16_col4, #T_4c0f9_row16_col5, #T_4c0f9_row16_col6, #T_4c0f9_row17_col0, #T_4c0f9_row17_col1, #T_4c0f9_row17_col2, #T_4c0f9_row17_col3, #T_4c0f9_row17_col4, #T_4c0f9_row17_col5, #T_4c0f9_row17_col6, #T_4c0f9_row18_col0, #T_4c0f9_row18_col1, #T_4c0f9_row18_col2, #T_4c0f9_row18_col3, #T_4c0f9_row18_col4, #T_4c0f9_row18_col5, #T_4c0f9_row18_col6 {\n",
       "  text-align: left;\n",
       "}\n",
       "#T_4c0f9_row0_col1, #T_4c0f9_row0_col2, #T_4c0f9_row0_col3, #T_4c0f9_row0_col4, #T_4c0f9_row0_col5, #T_4c0f9_row0_col6 {\n",
       "  text-align: left;\n",
       "  background-color: yellow;\n",
       "}\n",
       "#T_4c0f9_row0_col7, #T_4c0f9_row1_col7, #T_4c0f9_row2_col7, #T_4c0f9_row3_col7, #T_4c0f9_row4_col7, #T_4c0f9_row5_col7, #T_4c0f9_row6_col7, #T_4c0f9_row7_col7, #T_4c0f9_row8_col7, #T_4c0f9_row9_col7, #T_4c0f9_row10_col7, #T_4c0f9_row11_col7, #T_4c0f9_row12_col7, #T_4c0f9_row13_col7, #T_4c0f9_row14_col7, #T_4c0f9_row17_col7, #T_4c0f9_row18_col7 {\n",
       "  text-align: left;\n",
       "  background-color: lightgrey;\n",
       "}\n",
       "#T_4c0f9_row15_col7, #T_4c0f9_row16_col7 {\n",
       "  text-align: left;\n",
       "  background-color: yellow;\n",
       "  background-color: lightgrey;\n",
       "}\n",
       "</style>\n",
       "<table id=\"T_4c0f9\">\n",
       "  <thead>\n",
       "    <tr>\n",
       "      <th class=\"blank level0\" >&nbsp;</th>\n",
       "      <th id=\"T_4c0f9_level0_col0\" class=\"col_heading level0 col0\" >Model</th>\n",
       "      <th id=\"T_4c0f9_level0_col1\" class=\"col_heading level0 col1\" >MAE</th>\n",
       "      <th id=\"T_4c0f9_level0_col2\" class=\"col_heading level0 col2\" >MSE</th>\n",
       "      <th id=\"T_4c0f9_level0_col3\" class=\"col_heading level0 col3\" >RMSE</th>\n",
       "      <th id=\"T_4c0f9_level0_col4\" class=\"col_heading level0 col4\" >R2</th>\n",
       "      <th id=\"T_4c0f9_level0_col5\" class=\"col_heading level0 col5\" >RMSLE</th>\n",
       "      <th id=\"T_4c0f9_level0_col6\" class=\"col_heading level0 col6\" >MAPE</th>\n",
       "      <th id=\"T_4c0f9_level0_col7\" class=\"col_heading level0 col7\" >TT (Sec)</th>\n",
       "    </tr>\n",
       "  </thead>\n",
       "  <tbody>\n",
       "    <tr>\n",
       "      <th id=\"T_4c0f9_level0_row0\" class=\"row_heading level0 row0\" >et</th>\n",
       "      <td id=\"T_4c0f9_row0_col0\" class=\"data row0 col0\" >Extra Trees Regressor</td>\n",
       "      <td id=\"T_4c0f9_row0_col1\" class=\"data row0 col1\" >0.4870</td>\n",
       "      <td id=\"T_4c0f9_row0_col2\" class=\"data row0 col2\" >0.4736</td>\n",
       "      <td id=\"T_4c0f9_row0_col3\" class=\"data row0 col3\" >0.6572</td>\n",
       "      <td id=\"T_4c0f9_row0_col4\" class=\"data row0 col4\" >0.9818</td>\n",
       "      <td id=\"T_4c0f9_row0_col5\" class=\"data row0 col5\" >0.0699</td>\n",
       "      <td id=\"T_4c0f9_row0_col6\" class=\"data row0 col6\" >0.0568</td>\n",
       "      <td id=\"T_4c0f9_row0_col7\" class=\"data row0 col7\" >0.0400</td>\n",
       "    </tr>\n",
       "    <tr>\n",
       "      <th id=\"T_4c0f9_level0_row1\" class=\"row_heading level0 row1\" >gbr</th>\n",
       "      <td id=\"T_4c0f9_row1_col0\" class=\"data row1 col0\" >Gradient Boosting Regressor</td>\n",
       "      <td id=\"T_4c0f9_row1_col1\" class=\"data row1 col1\" >0.6630</td>\n",
       "      <td id=\"T_4c0f9_row1_col2\" class=\"data row1 col2\" >0.7866</td>\n",
       "      <td id=\"T_4c0f9_row1_col3\" class=\"data row1 col3\" >0.8574</td>\n",
       "      <td id=\"T_4c0f9_row1_col4\" class=\"data row1 col4\" >0.9682</td>\n",
       "      <td id=\"T_4c0f9_row1_col5\" class=\"data row1 col5\" >0.0850</td>\n",
       "      <td id=\"T_4c0f9_row1_col6\" class=\"data row1 col6\" >0.0716</td>\n",
       "      <td id=\"T_4c0f9_row1_col7\" class=\"data row1 col7\" >0.0210</td>\n",
       "    </tr>\n",
       "    <tr>\n",
       "      <th id=\"T_4c0f9_level0_row2\" class=\"row_heading level0 row2\" >rf</th>\n",
       "      <td id=\"T_4c0f9_row2_col0\" class=\"data row2 col0\" >Random Forest Regressor</td>\n",
       "      <td id=\"T_4c0f9_row2_col1\" class=\"data row2 col1\" >0.7133</td>\n",
       "      <td id=\"T_4c0f9_row2_col2\" class=\"data row2 col2\" >0.8401</td>\n",
       "      <td id=\"T_4c0f9_row2_col3\" class=\"data row2 col3\" >0.8900</td>\n",
       "      <td id=\"T_4c0f9_row2_col4\" class=\"data row2 col4\" >0.9677</td>\n",
       "      <td id=\"T_4c0f9_row2_col5\" class=\"data row2 col5\" >0.0848</td>\n",
       "      <td id=\"T_4c0f9_row2_col6\" class=\"data row2 col6\" >0.0737</td>\n",
       "      <td id=\"T_4c0f9_row2_col7\" class=\"data row2 col7\" >0.0460</td>\n",
       "    </tr>\n",
       "    <tr>\n",
       "      <th id=\"T_4c0f9_level0_row3\" class=\"row_heading level0 row3\" >xgboost</th>\n",
       "      <td id=\"T_4c0f9_row3_col0\" class=\"data row3 col0\" >Extreme Gradient Boosting</td>\n",
       "      <td id=\"T_4c0f9_row3_col1\" class=\"data row3 col1\" >0.7371</td>\n",
       "      <td id=\"T_4c0f9_row3_col2\" class=\"data row3 col2\" >1.0121</td>\n",
       "      <td id=\"T_4c0f9_row3_col3\" class=\"data row3 col3\" >0.9810</td>\n",
       "      <td id=\"T_4c0f9_row3_col4\" class=\"data row3 col4\" >0.9574</td>\n",
       "      <td id=\"T_4c0f9_row3_col5\" class=\"data row3 col5\" >0.0935</td>\n",
       "      <td id=\"T_4c0f9_row3_col6\" class=\"data row3 col6\" >0.0777</td>\n",
       "      <td id=\"T_4c0f9_row3_col7\" class=\"data row3 col7\" >0.0220</td>\n",
       "    </tr>\n",
       "    <tr>\n",
       "      <th id=\"T_4c0f9_level0_row4\" class=\"row_heading level0 row4\" >ada</th>\n",
       "      <td id=\"T_4c0f9_row4_col0\" class=\"data row4 col0\" >AdaBoost Regressor</td>\n",
       "      <td id=\"T_4c0f9_row4_col1\" class=\"data row4 col1\" >0.8880</td>\n",
       "      <td id=\"T_4c0f9_row4_col2\" class=\"data row4 col2\" >1.2378</td>\n",
       "      <td id=\"T_4c0f9_row4_col3\" class=\"data row4 col3\" >1.0774</td>\n",
       "      <td id=\"T_4c0f9_row4_col4\" class=\"data row4 col4\" >0.9505</td>\n",
       "      <td id=\"T_4c0f9_row4_col5\" class=\"data row4 col5\" >0.0997</td>\n",
       "      <td id=\"T_4c0f9_row4_col6\" class=\"data row4 col6\" >0.0914</td>\n",
       "      <td id=\"T_4c0f9_row4_col7\" class=\"data row4 col7\" >0.0200</td>\n",
       "    </tr>\n",
       "    <tr>\n",
       "      <th id=\"T_4c0f9_level0_row5\" class=\"row_heading level0 row5\" >dt</th>\n",
       "      <td id=\"T_4c0f9_row5_col0\" class=\"data row5 col0\" >Decision Tree Regressor</td>\n",
       "      <td id=\"T_4c0f9_row5_col1\" class=\"data row5 col1\" >0.9236</td>\n",
       "      <td id=\"T_4c0f9_row5_col2\" class=\"data row5 col2\" >1.4702</td>\n",
       "      <td id=\"T_4c0f9_row5_col3\" class=\"data row5 col3\" >1.1938</td>\n",
       "      <td id=\"T_4c0f9_row5_col4\" class=\"data row5 col4\" >0.9339</td>\n",
       "      <td id=\"T_4c0f9_row5_col5\" class=\"data row5 col5\" >0.1109</td>\n",
       "      <td id=\"T_4c0f9_row5_col6\" class=\"data row5 col6\" >0.0898</td>\n",
       "      <td id=\"T_4c0f9_row5_col7\" class=\"data row5 col7\" >0.0140</td>\n",
       "    </tr>\n",
       "    <tr>\n",
       "      <th id=\"T_4c0f9_level0_row6\" class=\"row_heading level0 row6\" >lightgbm</th>\n",
       "      <td id=\"T_4c0f9_row6_col0\" class=\"data row6 col0\" >Light Gradient Boosting Machine</td>\n",
       "      <td id=\"T_4c0f9_row6_col1\" class=\"data row6 col1\" >1.0096</td>\n",
       "      <td id=\"T_4c0f9_row6_col2\" class=\"data row6 col2\" >1.9894</td>\n",
       "      <td id=\"T_4c0f9_row6_col3\" class=\"data row6 col3\" >1.3678</td>\n",
       "      <td id=\"T_4c0f9_row6_col4\" class=\"data row6 col4\" >0.9170</td>\n",
       "      <td id=\"T_4c0f9_row6_col5\" class=\"data row6 col5\" >0.1453</td>\n",
       "      <td id=\"T_4c0f9_row6_col6\" class=\"data row6 col6\" >0.1206</td>\n",
       "      <td id=\"T_4c0f9_row6_col7\" class=\"data row6 col7\" >0.0870</td>\n",
       "    </tr>\n",
       "    <tr>\n",
       "      <th id=\"T_4c0f9_level0_row7\" class=\"row_heading level0 row7\" >lasso</th>\n",
       "      <td id=\"T_4c0f9_row7_col0\" class=\"data row7 col0\" >Lasso Regression</td>\n",
       "      <td id=\"T_4c0f9_row7_col1\" class=\"data row7 col1\" >1.3872</td>\n",
       "      <td id=\"T_4c0f9_row7_col2\" class=\"data row7 col2\" >3.3382</td>\n",
       "      <td id=\"T_4c0f9_row7_col3\" class=\"data row7 col3\" >1.7591</td>\n",
       "      <td id=\"T_4c0f9_row7_col4\" class=\"data row7 col4\" >0.8656</td>\n",
       "      <td id=\"T_4c0f9_row7_col5\" class=\"data row7 col5\" >0.1724</td>\n",
       "      <td id=\"T_4c0f9_row7_col6\" class=\"data row7 col6\" >0.1614</td>\n",
       "      <td id=\"T_4c0f9_row7_col7\" class=\"data row7 col7\" >0.1920</td>\n",
       "    </tr>\n",
       "    <tr>\n",
       "      <th id=\"T_4c0f9_level0_row8\" class=\"row_heading level0 row8\" >en</th>\n",
       "      <td id=\"T_4c0f9_row8_col0\" class=\"data row8 col0\" >Elastic Net</td>\n",
       "      <td id=\"T_4c0f9_row8_col1\" class=\"data row8 col1\" >1.3877</td>\n",
       "      <td id=\"T_4c0f9_row8_col2\" class=\"data row8 col2\" >3.3523</td>\n",
       "      <td id=\"T_4c0f9_row8_col3\" class=\"data row8 col3\" >1.7612</td>\n",
       "      <td id=\"T_4c0f9_row8_col4\" class=\"data row8 col4\" >0.8652</td>\n",
       "      <td id=\"T_4c0f9_row8_col5\" class=\"data row8 col5\" >0.1736</td>\n",
       "      <td id=\"T_4c0f9_row8_col6\" class=\"data row8 col6\" >0.1622</td>\n",
       "      <td id=\"T_4c0f9_row8_col7\" class=\"data row8 col7\" >0.0130</td>\n",
       "    </tr>\n",
       "    <tr>\n",
       "      <th id=\"T_4c0f9_level0_row9\" class=\"row_heading level0 row9\" >lar</th>\n",
       "      <td id=\"T_4c0f9_row9_col0\" class=\"data row9 col0\" >Least Angle Regression</td>\n",
       "      <td id=\"T_4c0f9_row9_col1\" class=\"data row9 col1\" >1.3886</td>\n",
       "      <td id=\"T_4c0f9_row9_col2\" class=\"data row9 col2\" >3.3712</td>\n",
       "      <td id=\"T_4c0f9_row9_col3\" class=\"data row9 col3\" >1.7643</td>\n",
       "      <td id=\"T_4c0f9_row9_col4\" class=\"data row9 col4\" >0.8646</td>\n",
       "      <td id=\"T_4c0f9_row9_col5\" class=\"data row9 col5\" >0.1755</td>\n",
       "      <td id=\"T_4c0f9_row9_col6\" class=\"data row9 col6\" >0.1634</td>\n",
       "      <td id=\"T_4c0f9_row9_col7\" class=\"data row9 col7\" >0.0150</td>\n",
       "    </tr>\n",
       "    <tr>\n",
       "      <th id=\"T_4c0f9_level0_row10\" class=\"row_heading level0 row10\" >lr</th>\n",
       "      <td id=\"T_4c0f9_row10_col0\" class=\"data row10 col0\" >Linear Regression</td>\n",
       "      <td id=\"T_4c0f9_row10_col1\" class=\"data row10 col1\" >1.3886</td>\n",
       "      <td id=\"T_4c0f9_row10_col2\" class=\"data row10 col2\" >3.3712</td>\n",
       "      <td id=\"T_4c0f9_row10_col3\" class=\"data row10 col3\" >1.7643</td>\n",
       "      <td id=\"T_4c0f9_row10_col4\" class=\"data row10 col4\" >0.8646</td>\n",
       "      <td id=\"T_4c0f9_row10_col5\" class=\"data row10 col5\" >0.1755</td>\n",
       "      <td id=\"T_4c0f9_row10_col6\" class=\"data row10 col6\" >0.1634</td>\n",
       "      <td id=\"T_4c0f9_row10_col7\" class=\"data row10 col7\" >0.5240</td>\n",
       "    </tr>\n",
       "    <tr>\n",
       "      <th id=\"T_4c0f9_level0_row11\" class=\"row_heading level0 row11\" >ridge</th>\n",
       "      <td id=\"T_4c0f9_row11_col0\" class=\"data row11 col0\" >Ridge Regression</td>\n",
       "      <td id=\"T_4c0f9_row11_col1\" class=\"data row11 col1\" >1.3886</td>\n",
       "      <td id=\"T_4c0f9_row11_col2\" class=\"data row11 col2\" >3.3712</td>\n",
       "      <td id=\"T_4c0f9_row11_col3\" class=\"data row11 col3\" >1.7643</td>\n",
       "      <td id=\"T_4c0f9_row11_col4\" class=\"data row11 col4\" >0.8646</td>\n",
       "      <td id=\"T_4c0f9_row11_col5\" class=\"data row11 col5\" >0.1755</td>\n",
       "      <td id=\"T_4c0f9_row11_col6\" class=\"data row11 col6\" >0.1634</td>\n",
       "      <td id=\"T_4c0f9_row11_col7\" class=\"data row11 col7\" >0.0140</td>\n",
       "    </tr>\n",
       "    <tr>\n",
       "      <th id=\"T_4c0f9_level0_row12\" class=\"row_heading level0 row12\" >br</th>\n",
       "      <td id=\"T_4c0f9_row12_col0\" class=\"data row12 col0\" >Bayesian Ridge</td>\n",
       "      <td id=\"T_4c0f9_row12_col1\" class=\"data row12 col1\" >1.3940</td>\n",
       "      <td id=\"T_4c0f9_row12_col2\" class=\"data row12 col2\" >3.3789</td>\n",
       "      <td id=\"T_4c0f9_row12_col3\" class=\"data row12 col3\" >1.7678</td>\n",
       "      <td id=\"T_4c0f9_row12_col4\" class=\"data row12 col4\" >0.8640</td>\n",
       "      <td id=\"T_4c0f9_row12_col5\" class=\"data row12 col5\" >0.1743</td>\n",
       "      <td id=\"T_4c0f9_row12_col6\" class=\"data row12 col6\" >0.1631</td>\n",
       "      <td id=\"T_4c0f9_row12_col7\" class=\"data row12 col7\" >0.0140</td>\n",
       "    </tr>\n",
       "    <tr>\n",
       "      <th id=\"T_4c0f9_level0_row13\" class=\"row_heading level0 row13\" >huber</th>\n",
       "      <td id=\"T_4c0f9_row13_col0\" class=\"data row13 col0\" >Huber Regressor</td>\n",
       "      <td id=\"T_4c0f9_row13_col1\" class=\"data row13 col1\" >1.3491</td>\n",
       "      <td id=\"T_4c0f9_row13_col2\" class=\"data row13 col2\" >3.5108</td>\n",
       "      <td id=\"T_4c0f9_row13_col3\" class=\"data row13 col3\" >1.7959</td>\n",
       "      <td id=\"T_4c0f9_row13_col4\" class=\"data row13 col4\" >0.8599</td>\n",
       "      <td id=\"T_4c0f9_row13_col5\" class=\"data row13 col5\" >0.1783</td>\n",
       "      <td id=\"T_4c0f9_row13_col6\" class=\"data row13 col6\" >0.1662</td>\n",
       "      <td id=\"T_4c0f9_row13_col7\" class=\"data row13 col7\" >0.0130</td>\n",
       "    </tr>\n",
       "    <tr>\n",
       "      <th id=\"T_4c0f9_level0_row14\" class=\"row_heading level0 row14\" >knn</th>\n",
       "      <td id=\"T_4c0f9_row14_col0\" class=\"data row14 col0\" >K Neighbors Regressor</td>\n",
       "      <td id=\"T_4c0f9_row14_col1\" class=\"data row14 col1\" >2.0039</td>\n",
       "      <td id=\"T_4c0f9_row14_col2\" class=\"data row14 col2\" >6.7314</td>\n",
       "      <td id=\"T_4c0f9_row14_col3\" class=\"data row14 col3\" >2.5577</td>\n",
       "      <td id=\"T_4c0f9_row14_col4\" class=\"data row14 col4\" >0.7133</td>\n",
       "      <td id=\"T_4c0f9_row14_col5\" class=\"data row14 col5\" >0.1926</td>\n",
       "      <td id=\"T_4c0f9_row14_col6\" class=\"data row14 col6\" >0.1842</td>\n",
       "      <td id=\"T_4c0f9_row14_col7\" class=\"data row14 col7\" >0.0140</td>\n",
       "    </tr>\n",
       "    <tr>\n",
       "      <th id=\"T_4c0f9_level0_row15\" class=\"row_heading level0 row15\" >omp</th>\n",
       "      <td id=\"T_4c0f9_row15_col0\" class=\"data row15 col0\" >Orthogonal Matching Pursuit</td>\n",
       "      <td id=\"T_4c0f9_row15_col1\" class=\"data row15 col1\" >2.6871</td>\n",
       "      <td id=\"T_4c0f9_row15_col2\" class=\"data row15 col2\" >11.2996</td>\n",
       "      <td id=\"T_4c0f9_row15_col3\" class=\"data row15 col3\" >3.3293</td>\n",
       "      <td id=\"T_4c0f9_row15_col4\" class=\"data row15 col4\" >0.4990</td>\n",
       "      <td id=\"T_4c0f9_row15_col5\" class=\"data row15 col5\" >0.2264</td>\n",
       "      <td id=\"T_4c0f9_row15_col6\" class=\"data row15 col6\" >0.2269</td>\n",
       "      <td id=\"T_4c0f9_row15_col7\" class=\"data row15 col7\" >0.0120</td>\n",
       "    </tr>\n",
       "    <tr>\n",
       "      <th id=\"T_4c0f9_level0_row16\" class=\"row_heading level0 row16\" >par</th>\n",
       "      <td id=\"T_4c0f9_row16_col0\" class=\"data row16 col0\" >Passive Aggressive Regressor</td>\n",
       "      <td id=\"T_4c0f9_row16_col1\" class=\"data row16 col1\" >3.2456</td>\n",
       "      <td id=\"T_4c0f9_row16_col2\" class=\"data row16 col2\" >16.1895</td>\n",
       "      <td id=\"T_4c0f9_row16_col3\" class=\"data row16 col3\" >3.8526</td>\n",
       "      <td id=\"T_4c0f9_row16_col4\" class=\"data row16 col4\" >0.3089</td>\n",
       "      <td id=\"T_4c0f9_row16_col5\" class=\"data row16 col5\" >0.2808</td>\n",
       "      <td id=\"T_4c0f9_row16_col6\" class=\"data row16 col6\" >0.3004</td>\n",
       "      <td id=\"T_4c0f9_row16_col7\" class=\"data row16 col7\" >0.0120</td>\n",
       "    </tr>\n",
       "    <tr>\n",
       "      <th id=\"T_4c0f9_level0_row17\" class=\"row_heading level0 row17\" >llar</th>\n",
       "      <td id=\"T_4c0f9_row17_col0\" class=\"data row17 col0\" >Lasso Least Angle Regression</td>\n",
       "      <td id=\"T_4c0f9_row17_col1\" class=\"data row17 col1\" >4.3561</td>\n",
       "      <td id=\"T_4c0f9_row17_col2\" class=\"data row17 col2\" >27.7343</td>\n",
       "      <td id=\"T_4c0f9_row17_col3\" class=\"data row17 col3\" >5.1586</td>\n",
       "      <td id=\"T_4c0f9_row17_col4\" class=\"data row17 col4\" >-0.0588</td>\n",
       "      <td id=\"T_4c0f9_row17_col5\" class=\"data row17 col5\" >0.3803</td>\n",
       "      <td id=\"T_4c0f9_row17_col6\" class=\"data row17 col6\" >0.4259</td>\n",
       "      <td id=\"T_4c0f9_row17_col7\" class=\"data row17 col7\" >0.0130</td>\n",
       "    </tr>\n",
       "    <tr>\n",
       "      <th id=\"T_4c0f9_level0_row18\" class=\"row_heading level0 row18\" >dummy</th>\n",
       "      <td id=\"T_4c0f9_row18_col0\" class=\"data row18 col0\" >Dummy Regressor</td>\n",
       "      <td id=\"T_4c0f9_row18_col1\" class=\"data row18 col1\" >4.3561</td>\n",
       "      <td id=\"T_4c0f9_row18_col2\" class=\"data row18 col2\" >27.7343</td>\n",
       "      <td id=\"T_4c0f9_row18_col3\" class=\"data row18 col3\" >5.1586</td>\n",
       "      <td id=\"T_4c0f9_row18_col4\" class=\"data row18 col4\" >-0.0588</td>\n",
       "      <td id=\"T_4c0f9_row18_col5\" class=\"data row18 col5\" >0.3803</td>\n",
       "      <td id=\"T_4c0f9_row18_col6\" class=\"data row18 col6\" >0.4259</td>\n",
       "      <td id=\"T_4c0f9_row18_col7\" class=\"data row18 col7\" >0.0140</td>\n",
       "    </tr>\n",
       "  </tbody>\n",
       "</table>\n"
      ],
      "text/plain": [
       "<pandas.io.formats.style.Styler at 0x238f3887c70>"
      ]
     },
     "metadata": {},
     "output_type": "display_data"
    },
    {
     "data": {
      "application/vnd.jupyter.widget-view+json": {
       "model_id": "",
       "version_major": 2,
       "version_minor": 0
      },
      "text/plain": [
       "Processing:   0%|          | 0/81 [00:00<?, ?it/s]"
      ]
     },
     "metadata": {},
     "output_type": "display_data"
    },
    {
     "data": {
      "text/plain": [
       "ExtraTreesRegressor(n_jobs=-1, random_state=123)"
      ]
     },
     "execution_count": 23,
     "metadata": {},
     "output_type": "execute_result"
    }
   ],
   "source": [
    "compare_models()"
   ]
  },
  {
   "cell_type": "markdown",
   "metadata": {
    "id": "6cSsiOGt1Xli"
   },
   "source": [
    "**Finalizing the Best Model**"
   ]
  },
  {
   "cell_type": "code",
   "execution_count": 24,
   "metadata": {
    "colab": {
     "base_uri": "https://localhost:8080/",
     "height": 457,
     "referenced_widgets": [
      "c929eb91ed7242a0ae3e87c7f874dbf3",
      "2596c8fd2d1f430f923b34fb12c0850a",
      "3ee2a453a8cf4a92951eb70ab021b4f6",
      "b30a7908cfa7443da5a6d06f25c6d58e",
      "ba2f539dee724dbb8c7a85909dde9336",
      "9295dbe7560c4f57ab9bb47f0802500f",
      "70145d97f4364b2d9be1d67f9a5ba19f",
      "841fbb7e0aa547e2876724601c7fbcec",
      "794de484f87442c189fd76039e6cb0cb",
      "2357f2a2d15a418a87aff602ea4c261c",
      "bbeec1d6db114b1db9b99044db83a4a7"
     ]
    },
    "id": "kNeHBIn-1kxb",
    "outputId": "30ae796d-59b4-4884-d187-bed28e76879e"
   },
   "outputs": [
    {
     "data": {
      "text/html": [],
      "text/plain": [
       "<IPython.core.display.HTML object>"
      ]
     },
     "metadata": {},
     "output_type": "display_data"
    },
    {
     "data": {
      "text/html": [
       "<style type=\"text/css\">\n",
       "#T_76478_row10_col0, #T_76478_row10_col1, #T_76478_row10_col2, #T_76478_row10_col3, #T_76478_row10_col4, #T_76478_row10_col5 {\n",
       "  background: yellow;\n",
       "}\n",
       "</style>\n",
       "<table id=\"T_76478\">\n",
       "  <thead>\n",
       "    <tr>\n",
       "      <th class=\"blank level0\" >&nbsp;</th>\n",
       "      <th id=\"T_76478_level0_col0\" class=\"col_heading level0 col0\" >MAE</th>\n",
       "      <th id=\"T_76478_level0_col1\" class=\"col_heading level0 col1\" >MSE</th>\n",
       "      <th id=\"T_76478_level0_col2\" class=\"col_heading level0 col2\" >RMSE</th>\n",
       "      <th id=\"T_76478_level0_col3\" class=\"col_heading level0 col3\" >R2</th>\n",
       "      <th id=\"T_76478_level0_col4\" class=\"col_heading level0 col4\" >RMSLE</th>\n",
       "      <th id=\"T_76478_level0_col5\" class=\"col_heading level0 col5\" >MAPE</th>\n",
       "    </tr>\n",
       "    <tr>\n",
       "      <th class=\"index_name level0\" >Fold</th>\n",
       "      <th class=\"blank col0\" >&nbsp;</th>\n",
       "      <th class=\"blank col1\" >&nbsp;</th>\n",
       "      <th class=\"blank col2\" >&nbsp;</th>\n",
       "      <th class=\"blank col3\" >&nbsp;</th>\n",
       "      <th class=\"blank col4\" >&nbsp;</th>\n",
       "      <th class=\"blank col5\" >&nbsp;</th>\n",
       "    </tr>\n",
       "  </thead>\n",
       "  <tbody>\n",
       "    <tr>\n",
       "      <th id=\"T_76478_level0_row0\" class=\"row_heading level0 row0\" >0</th>\n",
       "      <td id=\"T_76478_row0_col0\" class=\"data row0 col0\" >0.4179</td>\n",
       "      <td id=\"T_76478_row0_col1\" class=\"data row0 col1\" >0.3977</td>\n",
       "      <td id=\"T_76478_row0_col2\" class=\"data row0 col2\" >0.6307</td>\n",
       "      <td id=\"T_76478_row0_col3\" class=\"data row0 col3\" >0.9820</td>\n",
       "      <td id=\"T_76478_row0_col4\" class=\"data row0 col4\" >0.0424</td>\n",
       "      <td id=\"T_76478_row0_col5\" class=\"data row0 col5\" >0.0347</td>\n",
       "    </tr>\n",
       "    <tr>\n",
       "      <th id=\"T_76478_level0_row1\" class=\"row_heading level0 row1\" >1</th>\n",
       "      <td id=\"T_76478_row1_col0\" class=\"data row1 col0\" >0.7176</td>\n",
       "      <td id=\"T_76478_row1_col1\" class=\"data row1 col1\" >1.4009</td>\n",
       "      <td id=\"T_76478_row1_col2\" class=\"data row1 col2\" >1.1836</td>\n",
       "      <td id=\"T_76478_row1_col3\" class=\"data row1 col3\" >0.9549</td>\n",
       "      <td id=\"T_76478_row1_col4\" class=\"data row1 col4\" >0.2556</td>\n",
       "      <td id=\"T_76478_row1_col5\" class=\"data row1 col5\" >0.2236</td>\n",
       "    </tr>\n",
       "    <tr>\n",
       "      <th id=\"T_76478_level0_row2\" class=\"row_heading level0 row2\" >2</th>\n",
       "      <td id=\"T_76478_row2_col0\" class=\"data row2 col0\" >0.5294</td>\n",
       "      <td id=\"T_76478_row2_col1\" class=\"data row2 col1\" >0.5571</td>\n",
       "      <td id=\"T_76478_row2_col2\" class=\"data row2 col2\" >0.7464</td>\n",
       "      <td id=\"T_76478_row2_col3\" class=\"data row2 col3\" >0.9822</td>\n",
       "      <td id=\"T_76478_row2_col4\" class=\"data row2 col4\" >0.0436</td>\n",
       "      <td id=\"T_76478_row2_col5\" class=\"data row2 col5\" >0.0384</td>\n",
       "    </tr>\n",
       "    <tr>\n",
       "      <th id=\"T_76478_level0_row3\" class=\"row_heading level0 row3\" >3</th>\n",
       "      <td id=\"T_76478_row3_col0\" class=\"data row3 col0\" >0.3916</td>\n",
       "      <td id=\"T_76478_row3_col1\" class=\"data row3 col1\" >0.2425</td>\n",
       "      <td id=\"T_76478_row3_col2\" class=\"data row3 col2\" >0.4925</td>\n",
       "      <td id=\"T_76478_row3_col3\" class=\"data row3 col3\" >0.9795</td>\n",
       "      <td id=\"T_76478_row3_col4\" class=\"data row3 col4\" >0.0365</td>\n",
       "      <td id=\"T_76478_row3_col5\" class=\"data row3 col5\" >0.0306</td>\n",
       "    </tr>\n",
       "    <tr>\n",
       "      <th id=\"T_76478_level0_row4\" class=\"row_heading level0 row4\" >4</th>\n",
       "      <td id=\"T_76478_row4_col0\" class=\"data row4 col0\" >0.3891</td>\n",
       "      <td id=\"T_76478_row4_col1\" class=\"data row4 col1\" >0.2269</td>\n",
       "      <td id=\"T_76478_row4_col2\" class=\"data row4 col2\" >0.4764</td>\n",
       "      <td id=\"T_76478_row4_col3\" class=\"data row4 col3\" >0.9817</td>\n",
       "      <td id=\"T_76478_row4_col4\" class=\"data row4 col4\" >0.0350</td>\n",
       "      <td id=\"T_76478_row4_col5\" class=\"data row4 col5\" >0.0297</td>\n",
       "    </tr>\n",
       "    <tr>\n",
       "      <th id=\"T_76478_level0_row5\" class=\"row_heading level0 row5\" >5</th>\n",
       "      <td id=\"T_76478_row5_col0\" class=\"data row5 col0\" >0.4183</td>\n",
       "      <td id=\"T_76478_row5_col1\" class=\"data row5 col1\" >0.2326</td>\n",
       "      <td id=\"T_76478_row5_col2\" class=\"data row5 col2\" >0.4823</td>\n",
       "      <td id=\"T_76478_row5_col3\" class=\"data row5 col3\" >0.9899</td>\n",
       "      <td id=\"T_76478_row5_col4\" class=\"data row5 col4\" >0.0384</td>\n",
       "      <td id=\"T_76478_row5_col5\" class=\"data row5 col5\" >0.0361</td>\n",
       "    </tr>\n",
       "    <tr>\n",
       "      <th id=\"T_76478_level0_row6\" class=\"row_heading level0 row6\" >6</th>\n",
       "      <td id=\"T_76478_row6_col0\" class=\"data row6 col0\" >0.5249</td>\n",
       "      <td id=\"T_76478_row6_col1\" class=\"data row6 col1\" >0.3842</td>\n",
       "      <td id=\"T_76478_row6_col2\" class=\"data row6 col2\" >0.6199</td>\n",
       "      <td id=\"T_76478_row6_col3\" class=\"data row6 col3\" >0.9884</td>\n",
       "      <td id=\"T_76478_row6_col4\" class=\"data row6 col4\" >0.0540</td>\n",
       "      <td id=\"T_76478_row6_col5\" class=\"data row6 col5\" >0.0458</td>\n",
       "    </tr>\n",
       "    <tr>\n",
       "      <th id=\"T_76478_level0_row7\" class=\"row_heading level0 row7\" >7</th>\n",
       "      <td id=\"T_76478_row7_col0\" class=\"data row7 col0\" >0.3770</td>\n",
       "      <td id=\"T_76478_row7_col1\" class=\"data row7 col1\" >0.2750</td>\n",
       "      <td id=\"T_76478_row7_col2\" class=\"data row7 col2\" >0.5244</td>\n",
       "      <td id=\"T_76478_row7_col3\" class=\"data row7 col3\" >0.9858</td>\n",
       "      <td id=\"T_76478_row7_col4\" class=\"data row7 col4\" >0.0702</td>\n",
       "      <td id=\"T_76478_row7_col5\" class=\"data row7 col5\" >0.0441</td>\n",
       "    </tr>\n",
       "    <tr>\n",
       "      <th id=\"T_76478_level0_row8\" class=\"row_heading level0 row8\" >8</th>\n",
       "      <td id=\"T_76478_row8_col0\" class=\"data row8 col0\" >0.4856</td>\n",
       "      <td id=\"T_76478_row8_col1\" class=\"data row8 col1\" >0.3812</td>\n",
       "      <td id=\"T_76478_row8_col2\" class=\"data row8 col2\" >0.6174</td>\n",
       "      <td id=\"T_76478_row8_col3\" class=\"data row8 col3\" >0.9886</td>\n",
       "      <td id=\"T_76478_row8_col4\" class=\"data row8 col4\" >0.0759</td>\n",
       "      <td id=\"T_76478_row8_col5\" class=\"data row8 col5\" >0.0451</td>\n",
       "    </tr>\n",
       "    <tr>\n",
       "      <th id=\"T_76478_level0_row9\" class=\"row_heading level0 row9\" >9</th>\n",
       "      <td id=\"T_76478_row9_col0\" class=\"data row9 col0\" >0.6183</td>\n",
       "      <td id=\"T_76478_row9_col1\" class=\"data row9 col1\" >0.6373</td>\n",
       "      <td id=\"T_76478_row9_col2\" class=\"data row9 col2\" >0.7983</td>\n",
       "      <td id=\"T_76478_row9_col3\" class=\"data row9 col3\" >0.9846</td>\n",
       "      <td id=\"T_76478_row9_col4\" class=\"data row9 col4\" >0.0470</td>\n",
       "      <td id=\"T_76478_row9_col5\" class=\"data row9 col5\" >0.0397</td>\n",
       "    </tr>\n",
       "    <tr>\n",
       "      <th id=\"T_76478_level0_row10\" class=\"row_heading level0 row10\" >Mean</th>\n",
       "      <td id=\"T_76478_row10_col0\" class=\"data row10 col0\" >0.4870</td>\n",
       "      <td id=\"T_76478_row10_col1\" class=\"data row10 col1\" >0.4736</td>\n",
       "      <td id=\"T_76478_row10_col2\" class=\"data row10 col2\" >0.6572</td>\n",
       "      <td id=\"T_76478_row10_col3\" class=\"data row10 col3\" >0.9818</td>\n",
       "      <td id=\"T_76478_row10_col4\" class=\"data row10 col4\" >0.0699</td>\n",
       "      <td id=\"T_76478_row10_col5\" class=\"data row10 col5\" >0.0568</td>\n",
       "    </tr>\n",
       "    <tr>\n",
       "      <th id=\"T_76478_level0_row11\" class=\"row_heading level0 row11\" >Std</th>\n",
       "      <td id=\"T_76478_row11_col0\" class=\"data row11 col0\" >0.1068</td>\n",
       "      <td id=\"T_76478_row11_col1\" class=\"data row11 col1\" >0.3358</td>\n",
       "      <td id=\"T_76478_row11_col2\" class=\"data row11 col2\" >0.2041</td>\n",
       "      <td id=\"T_76478_row11_col3\" class=\"data row11 col3\" >0.0095</td>\n",
       "      <td id=\"T_76478_row11_col4\" class=\"data row11 col4\" >0.0633</td>\n",
       "      <td id=\"T_76478_row11_col5\" class=\"data row11 col5\" >0.0559</td>\n",
       "    </tr>\n",
       "  </tbody>\n",
       "</table>\n"
      ],
      "text/plain": [
       "<pandas.io.formats.style.Styler at 0x238f3562e50>"
      ]
     },
     "metadata": {},
     "output_type": "display_data"
    },
    {
     "data": {
      "application/vnd.jupyter.widget-view+json": {
       "model_id": "",
       "version_major": 2,
       "version_minor": 0
      },
      "text/plain": [
       "Processing:   0%|          | 0/4 [00:00<?, ?it/s]"
      ]
     },
     "metadata": {},
     "output_type": "display_data"
    }
   ],
   "source": [
    "etr = create_model('et')"
   ]
  },
  {
   "cell_type": "code",
   "execution_count": 25,
   "metadata": {
    "colab": {
     "base_uri": "https://localhost:8080/",
     "height": 394
    },
    "id": "3_PBZX7A3Vyr",
    "outputId": "8ad094c2-53fe-416c-81eb-7785f650acce"
   },
   "outputs": [
    {
     "data": {
      "text/plain": [
       "Pipeline(memory=FastMemory(location=C:\\Users\\Moh\\AppData\\Local\\Temp\\joblib),\n",
       "         steps=[('numerical_imputer',\n",
       "                 TransformerWrapper(include=['Unnamed: 0', 'TV', 'Radio',\n",
       "                                             'Newspaper'],\n",
       "                                    transformer=SimpleImputer())),\n",
       "                ('categorical_imputer',\n",
       "                 TransformerWrapper(include=[],\n",
       "                                    transformer=SimpleImputer(strategy='most_frequent'))),\n",
       "                ('clean_column_names',\n",
       "                 TransformerWrapper(transformer=CleanColumnNames())),\n",
       "                ('actual_estimator',\n",
       "                 ExtraTreesRegressor(n_jobs=-1, random_state=123))])"
      ]
     },
     "execution_count": 25,
     "metadata": {},
     "output_type": "execute_result"
    }
   ],
   "source": [
    "etr = finalize_model(etr)\n",
    "etr"
   ]
  },
  {
   "cell_type": "code",
   "execution_count": 26,
   "metadata": {
    "colab": {
     "base_uri": "https://localhost:8080/",
     "height": 81
    },
    "id": "Ymn9j2A53jt2",
    "outputId": "6c4c5219-07bb-49f0-fdd5-73963e5717a8"
   },
   "outputs": [
    {
     "data": {
      "text/html": [
       "<style type=\"text/css\">\n",
       "</style>\n",
       "<table id=\"T_822b0\">\n",
       "  <thead>\n",
       "    <tr>\n",
       "      <th class=\"blank level0\" >&nbsp;</th>\n",
       "      <th id=\"T_822b0_level0_col0\" class=\"col_heading level0 col0\" >Model</th>\n",
       "      <th id=\"T_822b0_level0_col1\" class=\"col_heading level0 col1\" >MAE</th>\n",
       "      <th id=\"T_822b0_level0_col2\" class=\"col_heading level0 col2\" >MSE</th>\n",
       "      <th id=\"T_822b0_level0_col3\" class=\"col_heading level0 col3\" >RMSE</th>\n",
       "      <th id=\"T_822b0_level0_col4\" class=\"col_heading level0 col4\" >R2</th>\n",
       "      <th id=\"T_822b0_level0_col5\" class=\"col_heading level0 col5\" >RMSLE</th>\n",
       "      <th id=\"T_822b0_level0_col6\" class=\"col_heading level0 col6\" >MAPE</th>\n",
       "    </tr>\n",
       "  </thead>\n",
       "  <tbody>\n",
       "    <tr>\n",
       "      <th id=\"T_822b0_level0_row0\" class=\"row_heading level0 row0\" >0</th>\n",
       "      <td id=\"T_822b0_row0_col0\" class=\"data row0 col0\" >Extra Trees Regressor</td>\n",
       "      <td id=\"T_822b0_row0_col1\" class=\"data row0 col1\" >0.0000</td>\n",
       "      <td id=\"T_822b0_row0_col2\" class=\"data row0 col2\" >0.0000</td>\n",
       "      <td id=\"T_822b0_row0_col3\" class=\"data row0 col3\" >0.0000</td>\n",
       "      <td id=\"T_822b0_row0_col4\" class=\"data row0 col4\" >1.0000</td>\n",
       "      <td id=\"T_822b0_row0_col5\" class=\"data row0 col5\" >0.0000</td>\n",
       "      <td id=\"T_822b0_row0_col6\" class=\"data row0 col6\" >0.0000</td>\n",
       "    </tr>\n",
       "  </tbody>\n",
       "</table>\n"
      ],
      "text/plain": [
       "<pandas.io.formats.style.Styler at 0x238f34fb9d0>"
      ]
     },
     "metadata": {},
     "output_type": "display_data"
    }
   ],
   "source": [
    "preds = predict_model(etr)"
   ]
  },
  {
   "cell_type": "markdown",
   "metadata": {
    "id": "s6sLTq-b4UuW"
   },
   "source": [
    "Accuracy of the Model is 100%"
   ]
  }
 ],
 "metadata": {
  "colab": {
   "provenance": []
  },
  "kernelspec": {
   "display_name": "Python 3 (ipykernel)",
   "language": "python",
   "name": "python3"
  },
  "language_info": {
   "codemirror_mode": {
    "name": "ipython",
    "version": 3
   },
   "file_extension": ".py",
   "mimetype": "text/x-python",
   "name": "python",
   "nbconvert_exporter": "python",
   "pygments_lexer": "ipython3",
   "version": "3.9.15"
  },
  "widgets": {
   "application/vnd.jupyter.widget-state+json": {
    "087070ec728b49a1ac622bdb856e605c": {
     "model_module": "@jupyter-widgets/controls",
     "model_module_version": "1.5.0",
     "model_name": "HBoxModel",
     "state": {
      "_dom_classes": [],
      "_model_module": "@jupyter-widgets/controls",
      "_model_module_version": "1.5.0",
      "_model_name": "HBoxModel",
      "_view_count": null,
      "_view_module": "@jupyter-widgets/controls",
      "_view_module_version": "1.5.0",
      "_view_name": "HBoxView",
      "box_style": "",
      "children": [
       "IPY_MODEL_2ec1c0fbfc1845e9ad9cc09385060937",
       "IPY_MODEL_f736b0bf5ad64f78ac8314998beffb2b",
       "IPY_MODEL_b594b619a7074d5c9cee52d9163077ec"
      ],
      "layout": "IPY_MODEL_a1c3ed67a543466c8d2cf75f54a9f4b6"
     }
    },
    "2190ae36dacb408196dd1095b2468a89": {
     "model_module": "@jupyter-widgets/base",
     "model_module_version": "1.2.0",
     "model_name": "LayoutModel",
     "state": {
      "_model_module": "@jupyter-widgets/base",
      "_model_module_version": "1.2.0",
      "_model_name": "LayoutModel",
      "_view_count": null,
      "_view_module": "@jupyter-widgets/base",
      "_view_module_version": "1.2.0",
      "_view_name": "LayoutView",
      "align_content": null,
      "align_items": null,
      "align_self": null,
      "border": null,
      "bottom": null,
      "display": null,
      "flex": null,
      "flex_flow": null,
      "grid_area": null,
      "grid_auto_columns": null,
      "grid_auto_flow": null,
      "grid_auto_rows": null,
      "grid_column": null,
      "grid_gap": null,
      "grid_row": null,
      "grid_template_areas": null,
      "grid_template_columns": null,
      "grid_template_rows": null,
      "height": null,
      "justify_content": null,
      "justify_items": null,
      "left": null,
      "margin": null,
      "max_height": null,
      "max_width": null,
      "min_height": null,
      "min_width": null,
      "object_fit": null,
      "object_position": null,
      "order": null,
      "overflow": null,
      "overflow_x": null,
      "overflow_y": null,
      "padding": null,
      "right": null,
      "top": null,
      "visibility": null,
      "width": null
     }
    },
    "2357f2a2d15a418a87aff602ea4c261c": {
     "model_module": "@jupyter-widgets/base",
     "model_module_version": "1.2.0",
     "model_name": "LayoutModel",
     "state": {
      "_model_module": "@jupyter-widgets/base",
      "_model_module_version": "1.2.0",
      "_model_name": "LayoutModel",
      "_view_count": null,
      "_view_module": "@jupyter-widgets/base",
      "_view_module_version": "1.2.0",
      "_view_name": "LayoutView",
      "align_content": null,
      "align_items": null,
      "align_self": null,
      "border": null,
      "bottom": null,
      "display": null,
      "flex": null,
      "flex_flow": null,
      "grid_area": null,
      "grid_auto_columns": null,
      "grid_auto_flow": null,
      "grid_auto_rows": null,
      "grid_column": null,
      "grid_gap": null,
      "grid_row": null,
      "grid_template_areas": null,
      "grid_template_columns": null,
      "grid_template_rows": null,
      "height": null,
      "justify_content": null,
      "justify_items": null,
      "left": null,
      "margin": null,
      "max_height": null,
      "max_width": null,
      "min_height": null,
      "min_width": null,
      "object_fit": null,
      "object_position": null,
      "order": null,
      "overflow": null,
      "overflow_x": null,
      "overflow_y": null,
      "padding": null,
      "right": null,
      "top": null,
      "visibility": null,
      "width": null
     }
    },
    "2596c8fd2d1f430f923b34fb12c0850a": {
     "model_module": "@jupyter-widgets/controls",
     "model_module_version": "1.5.0",
     "model_name": "HTMLModel",
     "state": {
      "_dom_classes": [],
      "_model_module": "@jupyter-widgets/controls",
      "_model_module_version": "1.5.0",
      "_model_name": "HTMLModel",
      "_view_count": null,
      "_view_module": "@jupyter-widgets/controls",
      "_view_module_version": "1.5.0",
      "_view_name": "HTMLView",
      "description": "",
      "description_tooltip": null,
      "layout": "IPY_MODEL_9295dbe7560c4f57ab9bb47f0802500f",
      "placeholder": "​",
      "style": "IPY_MODEL_70145d97f4364b2d9be1d67f9a5ba19f",
      "value": "Processing:  75%"
     }
    },
    "2ec1c0fbfc1845e9ad9cc09385060937": {
     "model_module": "@jupyter-widgets/controls",
     "model_module_version": "1.5.0",
     "model_name": "HTMLModel",
     "state": {
      "_dom_classes": [],
      "_model_module": "@jupyter-widgets/controls",
      "_model_module_version": "1.5.0",
      "_model_name": "HTMLModel",
      "_view_count": null,
      "_view_module": "@jupyter-widgets/controls",
      "_view_module_version": "1.5.0",
      "_view_name": "HTMLView",
      "description": "",
      "description_tooltip": null,
      "layout": "IPY_MODEL_2190ae36dacb408196dd1095b2468a89",
      "placeholder": "​",
      "style": "IPY_MODEL_a38baf9f6b0744019a5b98e58da4b8b1",
      "value": "Processing: 100%"
     }
    },
    "3ee2a453a8cf4a92951eb70ab021b4f6": {
     "model_module": "@jupyter-widgets/controls",
     "model_module_version": "1.5.0",
     "model_name": "FloatProgressModel",
     "state": {
      "_dom_classes": [],
      "_model_module": "@jupyter-widgets/controls",
      "_model_module_version": "1.5.0",
      "_model_name": "FloatProgressModel",
      "_view_count": null,
      "_view_module": "@jupyter-widgets/controls",
      "_view_module_version": "1.5.0",
      "_view_name": "ProgressView",
      "bar_style": "",
      "description": "",
      "description_tooltip": null,
      "layout": "IPY_MODEL_841fbb7e0aa547e2876724601c7fbcec",
      "max": 4,
      "min": 0,
      "orientation": "horizontal",
      "style": "IPY_MODEL_794de484f87442c189fd76039e6cb0cb",
      "value": 4
     }
    },
    "425c3977423549ecb1242db8c2cffbb1": {
     "model_module": "@jupyter-widgets/controls",
     "model_module_version": "1.5.0",
     "model_name": "DescriptionStyleModel",
     "state": {
      "_model_module": "@jupyter-widgets/controls",
      "_model_module_version": "1.5.0",
      "_model_name": "DescriptionStyleModel",
      "_view_count": null,
      "_view_module": "@jupyter-widgets/base",
      "_view_module_version": "1.2.0",
      "_view_name": "StyleView",
      "description_width": ""
     }
    },
    "46b6d8ed04c9474c8d8c22078924b342": {
     "model_module": "@jupyter-widgets/base",
     "model_module_version": "1.2.0",
     "model_name": "LayoutModel",
     "state": {
      "_model_module": "@jupyter-widgets/base",
      "_model_module_version": "1.2.0",
      "_model_name": "LayoutModel",
      "_view_count": null,
      "_view_module": "@jupyter-widgets/base",
      "_view_module_version": "1.2.0",
      "_view_name": "LayoutView",
      "align_content": null,
      "align_items": null,
      "align_self": null,
      "border": null,
      "bottom": null,
      "display": null,
      "flex": null,
      "flex_flow": null,
      "grid_area": null,
      "grid_auto_columns": null,
      "grid_auto_flow": null,
      "grid_auto_rows": null,
      "grid_column": null,
      "grid_gap": null,
      "grid_row": null,
      "grid_template_areas": null,
      "grid_template_columns": null,
      "grid_template_rows": null,
      "height": null,
      "justify_content": null,
      "justify_items": null,
      "left": null,
      "margin": null,
      "max_height": null,
      "max_width": null,
      "min_height": null,
      "min_width": null,
      "object_fit": null,
      "object_position": null,
      "order": null,
      "overflow": null,
      "overflow_x": null,
      "overflow_y": null,
      "padding": null,
      "right": null,
      "top": null,
      "visibility": null,
      "width": null
     }
    },
    "56e4c8289ff248a18ef55e9ff657547d": {
     "model_module": "@jupyter-widgets/base",
     "model_module_version": "1.2.0",
     "model_name": "LayoutModel",
     "state": {
      "_model_module": "@jupyter-widgets/base",
      "_model_module_version": "1.2.0",
      "_model_name": "LayoutModel",
      "_view_count": null,
      "_view_module": "@jupyter-widgets/base",
      "_view_module_version": "1.2.0",
      "_view_name": "LayoutView",
      "align_content": null,
      "align_items": null,
      "align_self": null,
      "border": null,
      "bottom": null,
      "display": null,
      "flex": null,
      "flex_flow": null,
      "grid_area": null,
      "grid_auto_columns": null,
      "grid_auto_flow": null,
      "grid_auto_rows": null,
      "grid_column": null,
      "grid_gap": null,
      "grid_row": null,
      "grid_template_areas": null,
      "grid_template_columns": null,
      "grid_template_rows": null,
      "height": null,
      "justify_content": null,
      "justify_items": null,
      "left": null,
      "margin": null,
      "max_height": null,
      "max_width": null,
      "min_height": null,
      "min_width": null,
      "object_fit": null,
      "object_position": null,
      "order": null,
      "overflow": null,
      "overflow_x": null,
      "overflow_y": null,
      "padding": null,
      "right": null,
      "top": null,
      "visibility": null,
      "width": null
     }
    },
    "70145d97f4364b2d9be1d67f9a5ba19f": {
     "model_module": "@jupyter-widgets/controls",
     "model_module_version": "1.5.0",
     "model_name": "DescriptionStyleModel",
     "state": {
      "_model_module": "@jupyter-widgets/controls",
      "_model_module_version": "1.5.0",
      "_model_name": "DescriptionStyleModel",
      "_view_count": null,
      "_view_module": "@jupyter-widgets/base",
      "_view_module_version": "1.2.0",
      "_view_name": "StyleView",
      "description_width": ""
     }
    },
    "794de484f87442c189fd76039e6cb0cb": {
     "model_module": "@jupyter-widgets/controls",
     "model_module_version": "1.5.0",
     "model_name": "ProgressStyleModel",
     "state": {
      "_model_module": "@jupyter-widgets/controls",
      "_model_module_version": "1.5.0",
      "_model_name": "ProgressStyleModel",
      "_view_count": null,
      "_view_module": "@jupyter-widgets/base",
      "_view_module_version": "1.2.0",
      "_view_name": "StyleView",
      "bar_color": null,
      "description_width": ""
     }
    },
    "841fbb7e0aa547e2876724601c7fbcec": {
     "model_module": "@jupyter-widgets/base",
     "model_module_version": "1.2.0",
     "model_name": "LayoutModel",
     "state": {
      "_model_module": "@jupyter-widgets/base",
      "_model_module_version": "1.2.0",
      "_model_name": "LayoutModel",
      "_view_count": null,
      "_view_module": "@jupyter-widgets/base",
      "_view_module_version": "1.2.0",
      "_view_name": "LayoutView",
      "align_content": null,
      "align_items": null,
      "align_self": null,
      "border": null,
      "bottom": null,
      "display": null,
      "flex": null,
      "flex_flow": null,
      "grid_area": null,
      "grid_auto_columns": null,
      "grid_auto_flow": null,
      "grid_auto_rows": null,
      "grid_column": null,
      "grid_gap": null,
      "grid_row": null,
      "grid_template_areas": null,
      "grid_template_columns": null,
      "grid_template_rows": null,
      "height": null,
      "justify_content": null,
      "justify_items": null,
      "left": null,
      "margin": null,
      "max_height": null,
      "max_width": null,
      "min_height": null,
      "min_width": null,
      "object_fit": null,
      "object_position": null,
      "order": null,
      "overflow": null,
      "overflow_x": null,
      "overflow_y": null,
      "padding": null,
      "right": null,
      "top": null,
      "visibility": null,
      "width": null
     }
    },
    "901cbe02a68447e6b9eb5e4db71556ca": {
     "model_module": "@jupyter-widgets/controls",
     "model_module_version": "1.5.0",
     "model_name": "ProgressStyleModel",
     "state": {
      "_model_module": "@jupyter-widgets/controls",
      "_model_module_version": "1.5.0",
      "_model_name": "ProgressStyleModel",
      "_view_count": null,
      "_view_module": "@jupyter-widgets/base",
      "_view_module_version": "1.2.0",
      "_view_name": "StyleView",
      "bar_color": null,
      "description_width": ""
     }
    },
    "9295dbe7560c4f57ab9bb47f0802500f": {
     "model_module": "@jupyter-widgets/base",
     "model_module_version": "1.2.0",
     "model_name": "LayoutModel",
     "state": {
      "_model_module": "@jupyter-widgets/base",
      "_model_module_version": "1.2.0",
      "_model_name": "LayoutModel",
      "_view_count": null,
      "_view_module": "@jupyter-widgets/base",
      "_view_module_version": "1.2.0",
      "_view_name": "LayoutView",
      "align_content": null,
      "align_items": null,
      "align_self": null,
      "border": null,
      "bottom": null,
      "display": null,
      "flex": null,
      "flex_flow": null,
      "grid_area": null,
      "grid_auto_columns": null,
      "grid_auto_flow": null,
      "grid_auto_rows": null,
      "grid_column": null,
      "grid_gap": null,
      "grid_row": null,
      "grid_template_areas": null,
      "grid_template_columns": null,
      "grid_template_rows": null,
      "height": null,
      "justify_content": null,
      "justify_items": null,
      "left": null,
      "margin": null,
      "max_height": null,
      "max_width": null,
      "min_height": null,
      "min_width": null,
      "object_fit": null,
      "object_position": null,
      "order": null,
      "overflow": null,
      "overflow_x": null,
      "overflow_y": null,
      "padding": null,
      "right": null,
      "top": null,
      "visibility": null,
      "width": null
     }
    },
    "a1c3ed67a543466c8d2cf75f54a9f4b6": {
     "model_module": "@jupyter-widgets/base",
     "model_module_version": "1.2.0",
     "model_name": "LayoutModel",
     "state": {
      "_model_module": "@jupyter-widgets/base",
      "_model_module_version": "1.2.0",
      "_model_name": "LayoutModel",
      "_view_count": null,
      "_view_module": "@jupyter-widgets/base",
      "_view_module_version": "1.2.0",
      "_view_name": "LayoutView",
      "align_content": null,
      "align_items": null,
      "align_self": null,
      "border": null,
      "bottom": null,
      "display": null,
      "flex": null,
      "flex_flow": null,
      "grid_area": null,
      "grid_auto_columns": null,
      "grid_auto_flow": null,
      "grid_auto_rows": null,
      "grid_column": null,
      "grid_gap": null,
      "grid_row": null,
      "grid_template_areas": null,
      "grid_template_columns": null,
      "grid_template_rows": null,
      "height": null,
      "justify_content": null,
      "justify_items": null,
      "left": null,
      "margin": null,
      "max_height": null,
      "max_width": null,
      "min_height": null,
      "min_width": null,
      "object_fit": null,
      "object_position": null,
      "order": null,
      "overflow": null,
      "overflow_x": null,
      "overflow_y": null,
      "padding": null,
      "right": null,
      "top": null,
      "visibility": "hidden",
      "width": null
     }
    },
    "a38baf9f6b0744019a5b98e58da4b8b1": {
     "model_module": "@jupyter-widgets/controls",
     "model_module_version": "1.5.0",
     "model_name": "DescriptionStyleModel",
     "state": {
      "_model_module": "@jupyter-widgets/controls",
      "_model_module_version": "1.5.0",
      "_model_name": "DescriptionStyleModel",
      "_view_count": null,
      "_view_module": "@jupyter-widgets/base",
      "_view_module_version": "1.2.0",
      "_view_name": "StyleView",
      "description_width": ""
     }
    },
    "b30a7908cfa7443da5a6d06f25c6d58e": {
     "model_module": "@jupyter-widgets/controls",
     "model_module_version": "1.5.0",
     "model_name": "HTMLModel",
     "state": {
      "_dom_classes": [],
      "_model_module": "@jupyter-widgets/controls",
      "_model_module_version": "1.5.0",
      "_model_name": "HTMLModel",
      "_view_count": null,
      "_view_module": "@jupyter-widgets/controls",
      "_view_module_version": "1.5.0",
      "_view_name": "HTMLView",
      "description": "",
      "description_tooltip": null,
      "layout": "IPY_MODEL_2357f2a2d15a418a87aff602ea4c261c",
      "placeholder": "​",
      "style": "IPY_MODEL_bbeec1d6db114b1db9b99044db83a4a7",
      "value": " 3/4 [00:01&lt;00:00,  2.16it/s]"
     }
    },
    "b594b619a7074d5c9cee52d9163077ec": {
     "model_module": "@jupyter-widgets/controls",
     "model_module_version": "1.5.0",
     "model_name": "HTMLModel",
     "state": {
      "_dom_classes": [],
      "_model_module": "@jupyter-widgets/controls",
      "_model_module_version": "1.5.0",
      "_model_name": "HTMLModel",
      "_view_count": null,
      "_view_module": "@jupyter-widgets/controls",
      "_view_module_version": "1.5.0",
      "_view_name": "HTMLView",
      "description": "",
      "description_tooltip": null,
      "layout": "IPY_MODEL_56e4c8289ff248a18ef55e9ff657547d",
      "placeholder": "​",
      "style": "IPY_MODEL_425c3977423549ecb1242db8c2cffbb1",
      "value": " 81/81 [00:39&lt;00:00,  2.20it/s]"
     }
    },
    "ba2f539dee724dbb8c7a85909dde9336": {
     "model_module": "@jupyter-widgets/base",
     "model_module_version": "1.2.0",
     "model_name": "LayoutModel",
     "state": {
      "_model_module": "@jupyter-widgets/base",
      "_model_module_version": "1.2.0",
      "_model_name": "LayoutModel",
      "_view_count": null,
      "_view_module": "@jupyter-widgets/base",
      "_view_module_version": "1.2.0",
      "_view_name": "LayoutView",
      "align_content": null,
      "align_items": null,
      "align_self": null,
      "border": null,
      "bottom": null,
      "display": null,
      "flex": null,
      "flex_flow": null,
      "grid_area": null,
      "grid_auto_columns": null,
      "grid_auto_flow": null,
      "grid_auto_rows": null,
      "grid_column": null,
      "grid_gap": null,
      "grid_row": null,
      "grid_template_areas": null,
      "grid_template_columns": null,
      "grid_template_rows": null,
      "height": null,
      "justify_content": null,
      "justify_items": null,
      "left": null,
      "margin": null,
      "max_height": null,
      "max_width": null,
      "min_height": null,
      "min_width": null,
      "object_fit": null,
      "object_position": null,
      "order": null,
      "overflow": null,
      "overflow_x": null,
      "overflow_y": null,
      "padding": null,
      "right": null,
      "top": null,
      "visibility": "hidden",
      "width": null
     }
    },
    "bbeec1d6db114b1db9b99044db83a4a7": {
     "model_module": "@jupyter-widgets/controls",
     "model_module_version": "1.5.0",
     "model_name": "DescriptionStyleModel",
     "state": {
      "_model_module": "@jupyter-widgets/controls",
      "_model_module_version": "1.5.0",
      "_model_name": "DescriptionStyleModel",
      "_view_count": null,
      "_view_module": "@jupyter-widgets/base",
      "_view_module_version": "1.2.0",
      "_view_name": "StyleView",
      "description_width": ""
     }
    },
    "c929eb91ed7242a0ae3e87c7f874dbf3": {
     "model_module": "@jupyter-widgets/controls",
     "model_module_version": "1.5.0",
     "model_name": "HBoxModel",
     "state": {
      "_dom_classes": [],
      "_model_module": "@jupyter-widgets/controls",
      "_model_module_version": "1.5.0",
      "_model_name": "HBoxModel",
      "_view_count": null,
      "_view_module": "@jupyter-widgets/controls",
      "_view_module_version": "1.5.0",
      "_view_name": "HBoxView",
      "box_style": "",
      "children": [
       "IPY_MODEL_2596c8fd2d1f430f923b34fb12c0850a",
       "IPY_MODEL_3ee2a453a8cf4a92951eb70ab021b4f6",
       "IPY_MODEL_b30a7908cfa7443da5a6d06f25c6d58e"
      ],
      "layout": "IPY_MODEL_ba2f539dee724dbb8c7a85909dde9336"
     }
    },
    "f736b0bf5ad64f78ac8314998beffb2b": {
     "model_module": "@jupyter-widgets/controls",
     "model_module_version": "1.5.0",
     "model_name": "FloatProgressModel",
     "state": {
      "_dom_classes": [],
      "_model_module": "@jupyter-widgets/controls",
      "_model_module_version": "1.5.0",
      "_model_name": "FloatProgressModel",
      "_view_count": null,
      "_view_module": "@jupyter-widgets/controls",
      "_view_module_version": "1.5.0",
      "_view_name": "ProgressView",
      "bar_style": "",
      "description": "",
      "description_tooltip": null,
      "layout": "IPY_MODEL_46b6d8ed04c9474c8d8c22078924b342",
      "max": 81,
      "min": 0,
      "orientation": "horizontal",
      "style": "IPY_MODEL_901cbe02a68447e6b9eb5e4db71556ca",
      "value": 81
     }
    }
   }
  }
 },
 "nbformat": 4,
 "nbformat_minor": 1
}
